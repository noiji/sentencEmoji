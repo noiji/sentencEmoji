{
 "cells": [
  {
   "cell_type": "code",
   "execution_count": 1,
   "metadata": {},
   "outputs": [],
   "source": [
    "import re\n",
    "import pandas as pd\n",
    "from pandas import DataFrame as df\n",
    "import numpy as np\n",
    "import emoji"
   ]
  },
  {
   "cell_type": "code",
   "execution_count": 2,
   "metadata": {},
   "outputs": [
    {
     "data": {
      "text/plain": [
       "'RT @haha247979: @onemoreonce4bts @BTS_twt 넵넵💜 저..  늦게 해시 투표 동참한거 사실.. 조금.. 많이 죄송하긴 해써요😂😂\\n열심히 슨배님덜 따라갈게요~😍\\n\\nButter by BTS #BTS\\nStream #BTS_B…@green_zzang 맞아맞아 그렇긴 하지! 😂 근데 난 내용이 맘에 안 들거나 더 안 읽어도 되겠다 싶으면 다 안 읽었는데도 읽은 책처럼 생각해(!) ㅋㅋㅋㅋㅋ@weareDRIPPIN 오늘의 한마디를 주세요!😂\\n\\n#DRIPPIN #드리핀 #Villain #드리핀과_함께하는_멘션파티@KnitOhlala 이거 때문에 어제 실 주문을 한지라 ㅋㅋㅋㅋ 매우 찔립니다요!!! 근데 넘 잘 입을 것 같아서 함뜨참가! 얍! 색조합 잘 못하는데 원작하고 비슷하게 갑니다 😂@shotasaigo 까까님😂😂 생일메세지 정말 감사해요 🥺🥺💙 끝까지 덕질해라는 뜻인가봐요😇 까까님도 남은 시간 즐겁게 보내세요 🥰🥰아 내스급 성현제 책갈피가 아니라 옷핀입니다😂😂'"
      ]
     },
     "execution_count": 2,
     "metadata": {},
     "output_type": "execute_result"
    }
   ],
   "source": [
    "twitter_file = open(\"data/raw_korean.txt\", \"r\", encoding = \"utf-8\")\n",
    "twitter = twitter_file.read()\n",
    "twitter_file.close()\n",
    "\n",
    "twitter[:500]"
   ]
  },
  {
   "cell_type": "code",
   "execution_count": 3,
   "metadata": {},
   "outputs": [
    {
     "data": {
      "text/plain": [
       "'RT @haha247979: @onemoreonce4bts @BTS_twt 넵넵💜 저..  늦게 해시 투표 동참한거 사실.. 조금.. 많이 죄송하긴 해써요😂😂\\n열심히 슨배님덜 따라갈게요~😍\\n\\nButter by BTS #BTS\\nStream #BTS_B…@green_zzang 맞아맞아 그렇긴 하지! 😂 근데 난 내용이 맘에 안 들거나 더 안 읽어도 되겠다 싶으면 다 안 읽었는데도 읽은 책처럼 생각해(!) ㅋㅋㅋㅋㅋ@weareDRIPPIN 오늘의 한마디를 주세요!😂\\n\\n#DRIPPIN #드리핀 #Villain #드리핀과_함께하는_멘션파티@KnitOhlala 이거 때문에 어제 실 주문을 한지라 ㅋㅋㅋㅋ 매우 찔립니다요!!! 근데 넘 잘 입을 것 같아서 함뜨참가! 얍! 색조합 잘 못하는데 원작하고 비슷하게 갑니다 😂@shotasaigo 까까님😂😂 생일메세지 정말 감사해요 🥺🥺💙 끝까지 덕질해라는 뜻인가봐요😇 까까님도 남은 시간 즐겁게 보내세요 🥰🥰아 내스급 성현제 책갈피가 아니라 옷핀입니다😂😂'"
      ]
     },
     "execution_count": 3,
     "metadata": {},
     "output_type": "execute_result"
    }
   ],
   "source": [
    "#0206 data added\n",
    "twitter_file_0206 = open(\"data/raw_korean_0206.txt\", \"r\", encoding = \"utf-8\")\n",
    "twitter += twitter_file_0206.read()\n",
    "twitter_file_0206.close()\n",
    "\n",
    "twitter[:500]"
   ]
  },
  {
   "cell_type": "code",
   "execution_count": 4,
   "metadata": {},
   "outputs": [
    {
     "data": {
      "text/plain": [
       "'2차전에 도착하는 스쿼드   🚀 남자는 5x8 140 파운드와 같다 그의 거시기는 길고 강했다 (항상 작은 녀석은         )   🙃 \"팔로워스\"👇 나는 호흡을 한다.💀 우리의 스케줄이 떨어질 때까지 2 {4} 시간!! \"새\"n 나는 밀크 보이 스튜디오에서 살고있다 - 히트 곡을 만드는 집   🏾 새들이 너무 무서워요  🤧 그게 나야.   😂 마음이 너무 충만해요 rn   💖 이 에피소드에서 내가 가장 좋아하는 노래 중 하나입니다   ️ 염소를 데리고 처음으로 몸치장을 했어요   😂 \"새\") 이번 여름에 나는 최고의 삶을 살고있다 &amp; 나는 그것을 의미한다.💯    알려줘요   🏾 이번 여름에 나는 최고의 삶을 살고있다 &amp; 나는 그것을 의미한다.💯    [MTV LATIN AMERICA AWARDS] | 1:00 - 2:00 AM KST | KPOP REVOLUTION 1. : 130.7k    2.… 군대, 누가 리트윗하는지 따라와요   🔥 퍼펙트 다 앨리 브룩 '"
      ]
     },
     "execution_count": 4,
     "metadata": {},
     "output_type": "execute_result"
    }
   ],
   "source": [
    "kaggle_file = open(\"data/kaggle_translated.txt\", \"r\", encoding = \"utf-8\")\n",
    "kaggle = kaggle_file.read()\n",
    "kaggle = kaggle.replace(\"⁇\", \"\")\n",
    "kaggle_file.close()\n",
    "\n",
    "kaggle[:500]"
   ]
  },
  {
   "cell_type": "code",
   "execution_count": 5,
   "metadata": {},
   "outputs": [],
   "source": [
    "text = twitter + kaggle\n",
    "# text = twitter"
   ]
  },
  {
   "cell_type": "code",
   "execution_count": 6,
   "metadata": {},
   "outputs": [
    {
     "data": {
      "text/plain": [
       "'좋은 밤의 일   ️ 이온은 욜이 그를 쓰레기라고 불렀을 때 그의 거짓말을 전혀 보고 싶지 않다.😠 둘 다 정확합니다.😜 방탄 쉐어링  직원을위한 음식을 사는 것은 나를 부드럽게 만든다, 그들은 너무 달콤하다   💔 진짜 ᅲᅲ🔥    모두가 말하는 것을들을 수 있습니까?   🇸 때때로 나는 내가 어떻게 이런 박자를 생각해냈는지 궁금하다. 신은 칭찬을 받을 자격이 있다.💜 이 귀염둥이를보십시오    많은 기다리고있는 영화를 위해 함께 돌아올 것입니다. 나는 이 노래를 정말 좋아한다.😂 우정을 고치고 신뢰를 회복하는 것이 서로에게 노래를 부르는 것만 큼 쉬웠다면   😍 이 땅에서 년을 살았다.😍 저한텐 매일매일이에요   🖤 저한텐 매일매일이에요   🖤   엿 먹어라, 나는 나의 델타를 보려고 한다.😍 너무 잘 알고 있어요  😂 무대 위의 명의 왕자들😍 나는 백금 금발 머리를 원하지만 나는 건강한 머리카락을 너무 좋아한다.😢 와인이 정말 마시고 싶어요   😩 새 스냅챗 업데이트!!   🏼'"
      ]
     },
     "execution_count": 6,
     "metadata": {},
     "output_type": "execute_result"
    }
   ],
   "source": [
    "#영문, 특수문자(? ! . 제외), 숫자 제거\n",
    "text = re.sub('[a-zA-z]','',text)\n",
    "text = re.sub('[\\{\\}\\[\\]\\/;:|\\)*~`^\\-_+<>@\\#$%&\\\\\\=\\(\\'\\\"\\♥\\♡\\n0-9]','',text)\n",
    "text = text.strip()\n",
    "text[-500:]"
   ]
  },
  {
   "cell_type": "code",
   "execution_count": 7,
   "metadata": {},
   "outputs": [
    {
     "data": {
      "text/plain": [
       "[{'location': 2, 'emoji': '💜'},\n",
       " {'location': 44, 'emoji': '😂'},\n",
       " {'location': 45, 'emoji': '😂'},\n",
       " {'location': 60, 'emoji': '😍'},\n",
       " {'location': 80, 'emoji': '😂'},\n",
       " {'location': 157, 'emoji': '😂'},\n",
       " {'location': 264, 'emoji': '😂'},\n",
       " {'location': 269, 'emoji': '😂'},\n",
       " {'location': 270, 'emoji': '😂'},\n",
       " {'location': 286, 'emoji': '🥺'}]"
      ]
     },
     "execution_count": 7,
     "metadata": {},
     "output_type": "execute_result"
    }
   ],
   "source": [
    "emojis = emoji.emoji_lis(text)\n",
    "emojis[:10]"
   ]
  },
  {
   "cell_type": "code",
   "execution_count": 8,
   "metadata": {},
   "outputs": [
    {
     "name": "stdout",
     "output_type": "stream",
     "text": [
      "522\n"
     ]
    },
    {
     "data": {
      "text/plain": [
       "['😮', '🌰', '👴', '😋', '🎂', '🐦', '🙃', '👼🏻', '🆙', '👦']"
      ]
     },
     "execution_count": 8,
     "metadata": {},
     "output_type": "execute_result"
    }
   ],
   "source": [
    "emojis = list(set([i['emoji'] for i in emojis]))\n",
    "print(len(emojis))\n",
    "emojis[:10]"
   ]
  },
  {
   "cell_type": "code",
   "execution_count": 9,
   "metadata": {},
   "outputs": [
    {
     "data": {
      "text/plain": [
       "'넵넵💜 저. 늦게 해시 투표 동참한거 사실. 조금. 많이 죄송하긴 해써요😂열심히 슨배님덜 따라갈게요😍 … 맞아맞아 그렇긴 하지! 😂 근데 난 내용이 맘에 안 들거나 더 안 읽어도 되겠다 싶으면 다 안 읽었는데도 읽은 책처럼 생각해! ㅋ 오늘의 한마디를 주세요!😂 드리핀 드리핀과함께하는멘션파티 이거 때문에 어제 실 주문을 한지라 ㅋ 매우 찔립니다요! 근데 넘 잘 입을 것 같아서 함뜨참가! 얍! 색조합 잘 못하는데 원작하고 비슷하게 갑니다 😂 까까님😂 생일메세지 정말 감사해요 🥺💙 끝까지 덕질해라는 뜻인가봐요😇 까까님도 남은 시간 즐겁게 보내세요 🥰아 내스급 성현제 책갈피가 아니라 옷핀입니다😂 뮤지광컴퍼니는 끝났지만 나는 멈추지 않는다.정규직 기다려라.😂모두들 감사합니다❤️👍유튜브는 아직 남았어용ㅎ크래비티 형준 아이돌라이브 뮤지광 . 우왕😍 솜사탕😙차배치가 초컷이래서😂 우리껀 춘절이후에 받아욥요기는 솜사탕 차폼이용😁 . 에에 아직 못갈겼어 담달에 살구야!😂🔥 흐뭇하게 시작해서 중간에 탈'"
      ]
     },
     "execution_count": 9,
     "metadata": {},
     "output_type": "execute_result"
    }
   ],
   "source": [
    "delimiters = ['.', '!', '?', 'ㅎ', 'ㅋ', ' ']\n",
    "delimiters.extend(emojis)\n",
    "\n",
    "#두번이상 반복된 것 한 번으로 축소\n",
    "for d in delimiters:\n",
    "    flag = False\n",
    "    while True:\n",
    "        if text.find(d+d) == -1:\n",
    "            break\n",
    "        text = text.replace(d+d, d)\n",
    "\n",
    "text[:500]"
   ]
  },
  {
   "cell_type": "code",
   "execution_count": 10,
   "metadata": {},
   "outputs": [
    {
     "data": {
      "text/html": [
       "<div>\n",
       "<style scoped>\n",
       "    .dataframe tbody tr th:only-of-type {\n",
       "        vertical-align: middle;\n",
       "    }\n",
       "\n",
       "    .dataframe tbody tr th {\n",
       "        vertical-align: top;\n",
       "    }\n",
       "\n",
       "    .dataframe thead th {\n",
       "        text-align: right;\n",
       "    }\n",
       "</style>\n",
       "<table border=\"1\" class=\"dataframe\">\n",
       "  <thead>\n",
       "    <tr style=\"text-align: right;\">\n",
       "      <th></th>\n",
       "      <th>x</th>\n",
       "      <th>y</th>\n",
       "    </tr>\n",
       "  </thead>\n",
       "  <tbody>\n",
       "  </tbody>\n",
       "</table>\n",
       "</div>"
      ],
      "text/plain": [
       "Empty DataFrame\n",
       "Columns: [x, y]\n",
       "Index: []"
      ]
     },
     "execution_count": 10,
     "metadata": {},
     "output_type": "execute_result"
    }
   ],
   "source": [
    "df = df(columns = ['x', 'y'])\n",
    "df"
   ]
  },
  {
   "cell_type": "code",
   "execution_count": 11,
   "metadata": {},
   "outputs": [],
   "source": [
    "delimiters.remove(' ')\n",
    "x = \"\"\n",
    "\n",
    "for i in range(len(text)):\n",
    "    if text[i] in delimiters:\n",
    "#         if i+1 < len(text) and text[i+1] in delimiters:\n",
    "#             continue\n",
    "        if len(x) < 10:\n",
    "            continue\n",
    "        if text[i] not in emojis:\n",
    "            df = df.append({'x': x, 'y': 'N'}, ignore_index = True)\n",
    "        else:\n",
    "            df = df.append({'x': x, 'y': text[i]}, ignore_index = True)\n",
    "        x = \"\"\n",
    "    else:\n",
    "        x += text[i]"
   ]
  },
  {
   "cell_type": "code",
   "execution_count": 12,
   "metadata": {},
   "outputs": [
    {
     "data": {
      "text/plain": [
       "6645"
      ]
     },
     "execution_count": 12,
     "metadata": {},
     "output_type": "execute_result"
    }
   ],
   "source": [
    "len(df)"
   ]
  },
  {
   "cell_type": "code",
   "execution_count": 13,
   "metadata": {},
   "outputs": [],
   "source": [
    "#중복 제거\n",
    "df = df.drop_duplicates(subset = ['x']).reset_index(drop = True)"
   ]
  },
  {
   "cell_type": "code",
   "execution_count": 14,
   "metadata": {
    "scrolled": true
   },
   "outputs": [
    {
     "name": "stdout",
     "output_type": "stream",
     "text": [
      "4385\n"
     ]
    },
    {
     "data": {
      "text/html": [
       "<div>\n",
       "<style scoped>\n",
       "    .dataframe tbody tr th:only-of-type {\n",
       "        vertical-align: middle;\n",
       "    }\n",
       "\n",
       "    .dataframe tbody tr th {\n",
       "        vertical-align: top;\n",
       "    }\n",
       "\n",
       "    .dataframe thead th {\n",
       "        text-align: right;\n",
       "    }\n",
       "</style>\n",
       "<table border=\"1\" class=\"dataframe\">\n",
       "  <thead>\n",
       "    <tr style=\"text-align: right;\">\n",
       "      <th></th>\n",
       "      <th>x</th>\n",
       "      <th>y</th>\n",
       "    </tr>\n",
       "  </thead>\n",
       "  <tbody>\n",
       "    <tr>\n",
       "      <th>0</th>\n",
       "      <td>넵넵 저 늦게 해시 투표 동참한거 사실</td>\n",
       "      <td>N</td>\n",
       "    </tr>\n",
       "    <tr>\n",
       "      <th>1</th>\n",
       "      <td>조금 많이 죄송하긴 해써요</td>\n",
       "      <td>😂</td>\n",
       "    </tr>\n",
       "    <tr>\n",
       "      <th>2</th>\n",
       "      <td>열심히 슨배님덜 따라갈게요</td>\n",
       "      <td>😍</td>\n",
       "    </tr>\n",
       "    <tr>\n",
       "      <th>3</th>\n",
       "      <td>… 맞아맞아 그렇긴 하지</td>\n",
       "      <td>N</td>\n",
       "    </tr>\n",
       "    <tr>\n",
       "      <th>4</th>\n",
       "      <td>근데 난 내용이 맘에 안 들거나 더 안 읽어도 되겠다 싶으면 다 안 읽었는데도 ...</td>\n",
       "      <td>N</td>\n",
       "    </tr>\n",
       "  </tbody>\n",
       "</table>\n",
       "</div>"
      ],
      "text/plain": [
       "                                                   x  y\n",
       "0                              넵넵 저 늦게 해시 투표 동참한거 사실  N\n",
       "1                                     조금 많이 죄송하긴 해써요  😂\n",
       "2                                     열심히 슨배님덜 따라갈게요  😍\n",
       "3                                      … 맞아맞아 그렇긴 하지  N\n",
       "4    근데 난 내용이 맘에 안 들거나 더 안 읽어도 되겠다 싶으면 다 안 읽었는데도 ...  N"
      ]
     },
     "execution_count": 14,
     "metadata": {},
     "output_type": "execute_result"
    }
   ],
   "source": [
    "print(len(df))\n",
    "df.head() #2231 -> 5725 "
   ]
  },
  {
   "cell_type": "code",
   "execution_count": 15,
   "metadata": {},
   "outputs": [],
   "source": [
    "#x; 한국어만 남기기\n",
    "df['x'] = [re.compile('[^ ㄱ-ㅣ가-힣]+').sub('', df['x'][i]).strip() for i in range(len(df['x']))]"
   ]
  },
  {
   "cell_type": "code",
   "execution_count": 16,
   "metadata": {},
   "outputs": [
    {
     "data": {
      "text/plain": [
       "4385"
      ]
     },
     "execution_count": 16,
     "metadata": {},
     "output_type": "execute_result"
    }
   ],
   "source": [
    "len(df) #total data length"
   ]
  },
  {
   "cell_type": "code",
   "execution_count": 17,
   "metadata": {},
   "outputs": [
    {
     "data": {
      "text/plain": [
       "321"
      ]
     },
     "execution_count": 17,
     "metadata": {},
     "output_type": "execute_result"
    }
   ],
   "source": [
    "df_count = df['y'].value_counts(sort = True)\n",
    "\n",
    "len(df_count) #unique labels"
   ]
  },
  {
   "cell_type": "code",
   "execution_count": 18,
   "metadata": {},
   "outputs": [
    {
     "data": {
      "text/html": [
       "<div>\n",
       "<style scoped>\n",
       "    .dataframe tbody tr th:only-of-type {\n",
       "        vertical-align: middle;\n",
       "    }\n",
       "\n",
       "    .dataframe tbody tr th {\n",
       "        vertical-align: top;\n",
       "    }\n",
       "\n",
       "    .dataframe thead th {\n",
       "        text-align: right;\n",
       "    }\n",
       "</style>\n",
       "<table border=\"1\" class=\"dataframe\">\n",
       "  <thead>\n",
       "    <tr style=\"text-align: right;\">\n",
       "      <th></th>\n",
       "      <th>x</th>\n",
       "      <th>y</th>\n",
       "    </tr>\n",
       "  </thead>\n",
       "  <tbody>\n",
       "    <tr>\n",
       "      <th>0</th>\n",
       "      <td>넵넵 저 늦게 해시 투표 동참한거 사실</td>\n",
       "      <td>N</td>\n",
       "    </tr>\n",
       "    <tr>\n",
       "      <th>1</th>\n",
       "      <td>조금 많이 죄송하긴 해써요</td>\n",
       "      <td>😂</td>\n",
       "    </tr>\n",
       "    <tr>\n",
       "      <th>2</th>\n",
       "      <td>열심히 슨배님덜 따라갈게요</td>\n",
       "      <td>😍</td>\n",
       "    </tr>\n",
       "    <tr>\n",
       "      <th>3</th>\n",
       "      <td>맞아맞아 그렇긴 하지</td>\n",
       "      <td>N</td>\n",
       "    </tr>\n",
       "    <tr>\n",
       "      <th>4</th>\n",
       "      <td>근데 난 내용이 맘에 안 들거나 더 안 읽어도 되겠다 싶으면 다 안 읽었는데도 읽은...</td>\n",
       "      <td>N</td>\n",
       "    </tr>\n",
       "  </tbody>\n",
       "</table>\n",
       "</div>"
      ],
      "text/plain": [
       "                                                   x  y\n",
       "0                              넵넵 저 늦게 해시 투표 동참한거 사실  N\n",
       "1                                     조금 많이 죄송하긴 해써요  😂\n",
       "2                                     열심히 슨배님덜 따라갈게요  😍\n",
       "3                                        맞아맞아 그렇긴 하지  N\n",
       "4  근데 난 내용이 맘에 안 들거나 더 안 읽어도 되겠다 싶으면 다 안 읽었는데도 읽은...  N"
      ]
     },
     "execution_count": 18,
     "metadata": {},
     "output_type": "execute_result"
    }
   ],
   "source": [
    "#count 10 이하인 것 제거\n",
    "# more_than_ten = df_count[df_count > 10]\n",
    "\n",
    "#라벨 수를 최빈도 30개로\n",
    "frequent_labels = list(df_count.head(30).index)\n",
    "df = df[df['y'].isin(frequent_labels)]\n",
    "df.head()"
   ]
  },
  {
   "cell_type": "code",
   "execution_count": 19,
   "metadata": {},
   "outputs": [
    {
     "data": {
      "text/plain": [
       "3076"
      ]
     },
     "execution_count": 19,
     "metadata": {},
     "output_type": "execute_result"
    }
   ],
   "source": [
    "len(df) #total data length"
   ]
  },
  {
   "cell_type": "code",
   "execution_count": 20,
   "metadata": {},
   "outputs": [
    {
     "data": {
      "text/plain": [
       "321"
      ]
     },
     "execution_count": 20,
     "metadata": {},
     "output_type": "execute_result"
    }
   ],
   "source": [
    "len(df_count) #unique labels"
   ]
  },
  {
   "cell_type": "code",
   "execution_count": 21,
   "metadata": {},
   "outputs": [
    {
     "name": "stdout",
     "output_type": "stream",
     "text": [
      "30\n"
     ]
    },
    {
     "data": {
      "text/plain": [
       "N    2346\n",
       "😂      80\n",
       "❤      53\n",
       "😭      49\n",
       "😍      32\n",
       "💕      28\n",
       "💜      26\n",
       "🔥      25\n",
       "👍      24\n",
       "🥺      24\n",
       "💖      24\n",
       "❣      23\n",
       "🙏      23\n",
       "😆      23\n",
       "✨      23\n",
       "😊      22\n",
       "😘      21\n",
       "🥰      20\n",
       "😎      19\n",
       "💗      19\n",
       "💙      19\n",
       "🤭      18\n",
       "💚      18\n",
       "👉      17\n",
       "✌      17\n",
       "😁      17\n",
       "💯      17\n",
       "😑      17\n",
       "🤤      16\n",
       "🐹      16\n",
       "Name: y, dtype: int64"
      ]
     },
     "execution_count": 21,
     "metadata": {},
     "output_type": "execute_result"
    }
   ],
   "source": [
    "df_count = df['y'].value_counts(sort = True)\n",
    "print(len(df_count))\n",
    "df_count"
   ]
  },
  {
   "cell_type": "code",
   "execution_count": 22,
   "metadata": {},
   "outputs": [
    {
     "data": {
      "text/html": [
       "<div>\n",
       "<style scoped>\n",
       "    .dataframe tbody tr th:only-of-type {\n",
       "        vertical-align: middle;\n",
       "    }\n",
       "\n",
       "    .dataframe tbody tr th {\n",
       "        vertical-align: top;\n",
       "    }\n",
       "\n",
       "    .dataframe thead th {\n",
       "        text-align: right;\n",
       "    }\n",
       "</style>\n",
       "<table border=\"1\" class=\"dataframe\">\n",
       "  <thead>\n",
       "    <tr style=\"text-align: right;\">\n",
       "      <th></th>\n",
       "      <th>x</th>\n",
       "      <th>y</th>\n",
       "    </tr>\n",
       "  </thead>\n",
       "  <tbody>\n",
       "    <tr>\n",
       "      <th>0</th>\n",
       "      <td>넵넵 저 늦게 해시 투표 동참한거 사실</td>\n",
       "      <td>N</td>\n",
       "    </tr>\n",
       "    <tr>\n",
       "      <th>1</th>\n",
       "      <td>조금 많이 죄송하긴 해써요</td>\n",
       "      <td>😂</td>\n",
       "    </tr>\n",
       "    <tr>\n",
       "      <th>2</th>\n",
       "      <td>열심히 슨배님덜 따라갈게요</td>\n",
       "      <td>😍</td>\n",
       "    </tr>\n",
       "    <tr>\n",
       "      <th>3</th>\n",
       "      <td>맞아맞아 그렇긴 하지</td>\n",
       "      <td>N</td>\n",
       "    </tr>\n",
       "    <tr>\n",
       "      <th>4</th>\n",
       "      <td>근데 난 내용이 맘에 안 들거나 더 안 읽어도 되겠다 싶으면 다 안 읽었는데도 읽은...</td>\n",
       "      <td>N</td>\n",
       "    </tr>\n",
       "    <tr>\n",
       "      <th>...</th>\n",
       "      <td>...</td>\n",
       "      <td>...</td>\n",
       "    </tr>\n",
       "    <tr>\n",
       "      <th>960</th>\n",
       "      <td>내 이마에 대고 말할 수 있는 여자는 한 명뿐이고 우리 엄마도 아니에요</td>\n",
       "      <td>😂</td>\n",
       "    </tr>\n",
       "    <tr>\n",
       "      <th>961</th>\n",
       "      <td>진짜 역대급 귀여워요 옴</td>\n",
       "      <td>😍</td>\n",
       "    </tr>\n",
       "    <tr>\n",
       "      <th>962</th>\n",
       "      <td>평화와 사랑을 그대에게</td>\n",
       "      <td>❤</td>\n",
       "    </tr>\n",
       "    <tr>\n",
       "      <th>963</th>\n",
       "      <td>우정을 고치고 신뢰를 회복하는 것이 서로에게 노래를 부르는 것만 큼 쉬웠다면</td>\n",
       "      <td>😍</td>\n",
       "    </tr>\n",
       "    <tr>\n",
       "      <th>964</th>\n",
       "      <td>너무 잘 알고 있어요</td>\n",
       "      <td>😂</td>\n",
       "    </tr>\n",
       "  </tbody>\n",
       "</table>\n",
       "<p>965 rows × 2 columns</p>\n",
       "</div>"
      ],
      "text/plain": [
       "                                                     x  y\n",
       "0                                넵넵 저 늦게 해시 투표 동참한거 사실  N\n",
       "1                                       조금 많이 죄송하긴 해써요  😂\n",
       "2                                       열심히 슨배님덜 따라갈게요  😍\n",
       "3                                          맞아맞아 그렇긴 하지  N\n",
       "4    근데 난 내용이 맘에 안 들거나 더 안 읽어도 되겠다 싶으면 다 안 읽었는데도 읽은...  N\n",
       "..                                                 ... ..\n",
       "960            내 이마에 대고 말할 수 있는 여자는 한 명뿐이고 우리 엄마도 아니에요  😂\n",
       "961                                      진짜 역대급 귀여워요 옴  😍\n",
       "962                                       평화와 사랑을 그대에게  ❤\n",
       "963         우정을 고치고 신뢰를 회복하는 것이 서로에게 노래를 부르는 것만 큼 쉬웠다면  😍\n",
       "964                                        너무 잘 알고 있어요  😂\n",
       "\n",
       "[965 rows x 2 columns]"
      ]
     },
     "execution_count": 22,
     "metadata": {},
     "output_type": "execute_result"
    }
   ],
   "source": [
    "#undersample data with label 'N'\n",
    "tail_len = int(len(df[df['y'] == 'N']) * 0.9)\n",
    "to_drop = df[df['y']=='N'].tail(tail_len)\n",
    "df = df.drop(to_drop.index)\n",
    "df.reset_index(drop = True)"
   ]
  },
  {
   "cell_type": "code",
   "execution_count": 23,
   "metadata": {},
   "outputs": [
    {
     "name": "stdout",
     "output_type": "stream",
     "text": [
      "30\n"
     ]
    },
    {
     "data": {
      "text/plain": [
       "N    235\n",
       "😂     80\n",
       "❤     53\n",
       "😭     49\n",
       "😍     32\n",
       "💕     28\n",
       "💜     26\n",
       "🔥     25\n",
       "👍     24\n",
       "🥺     24\n",
       "💖     24\n",
       "❣     23\n",
       "🙏     23\n",
       "😆     23\n",
       "✨     23\n",
       "😊     22\n",
       "😘     21\n",
       "🥰     20\n",
       "😎     19\n",
       "💗     19\n",
       "💙     19\n",
       "🤭     18\n",
       "💚     18\n",
       "👉     17\n",
       "✌     17\n",
       "😁     17\n",
       "💯     17\n",
       "😑     17\n",
       "🤤     16\n",
       "🐹     16\n",
       "Name: y, dtype: int64"
      ]
     },
     "execution_count": 23,
     "metadata": {},
     "output_type": "execute_result"
    }
   ],
   "source": [
    "df_count = df['y'].value_counts(sort = True)\n",
    "print(len(df_count))\n",
    "df_count"
   ]
  },
  {
   "cell_type": "code",
   "execution_count": 24,
   "metadata": {
    "scrolled": true
   },
   "outputs": [
    {
     "name": "stdout",
     "output_type": "stream",
     "text": [
      "965\n"
     ]
    },
    {
     "data": {
      "text/html": [
       "<div>\n",
       "<style scoped>\n",
       "    .dataframe tbody tr th:only-of-type {\n",
       "        vertical-align: middle;\n",
       "    }\n",
       "\n",
       "    .dataframe tbody tr th {\n",
       "        vertical-align: top;\n",
       "    }\n",
       "\n",
       "    .dataframe thead th {\n",
       "        text-align: right;\n",
       "    }\n",
       "</style>\n",
       "<table border=\"1\" class=\"dataframe\">\n",
       "  <thead>\n",
       "    <tr style=\"text-align: right;\">\n",
       "      <th></th>\n",
       "      <th>x</th>\n",
       "      <th>y</th>\n",
       "    </tr>\n",
       "  </thead>\n",
       "  <tbody>\n",
       "    <tr>\n",
       "      <th>4332</th>\n",
       "      <td>세훈이 촬영 때문에 바빠요 비비랑 아직도 같이 있으면 좋겠어요</td>\n",
       "      <td>😘</td>\n",
       "    </tr>\n",
       "    <tr>\n",
       "      <th>4340</th>\n",
       "      <td>가 다시 한번 그것을한다면</td>\n",
       "      <td>💯</td>\n",
       "    </tr>\n",
       "    <tr>\n",
       "      <th>4351</th>\n",
       "      <td>파산도 드래곤볼츠</td>\n",
       "      <td>😍</td>\n",
       "    </tr>\n",
       "    <tr>\n",
       "      <th>4356</th>\n",
       "      <td>파산도 드래곤볼츠</td>\n",
       "      <td>😍</td>\n",
       "    </tr>\n",
       "    <tr>\n",
       "      <th>4358</th>\n",
       "      <td>진짜 역대급 귀여워요 옴</td>\n",
       "      <td>😍</td>\n",
       "    </tr>\n",
       "    <tr>\n",
       "      <th>4359</th>\n",
       "      <td>내 이마에 대고 말할 수 있는 여자는 한 명뿐이고 우리 엄마도 아니에요</td>\n",
       "      <td>😂</td>\n",
       "    </tr>\n",
       "    <tr>\n",
       "      <th>4360</th>\n",
       "      <td>진짜 역대급 귀여워요 옴</td>\n",
       "      <td>😍</td>\n",
       "    </tr>\n",
       "    <tr>\n",
       "      <th>4361</th>\n",
       "      <td>평화와 사랑을 그대에게</td>\n",
       "      <td>❤</td>\n",
       "    </tr>\n",
       "    <tr>\n",
       "      <th>4374</th>\n",
       "      <td>우정을 고치고 신뢰를 회복하는 것이 서로에게 노래를 부르는 것만 큼 쉬웠다면</td>\n",
       "      <td>😍</td>\n",
       "    </tr>\n",
       "    <tr>\n",
       "      <th>4378</th>\n",
       "      <td>너무 잘 알고 있어요</td>\n",
       "      <td>😂</td>\n",
       "    </tr>\n",
       "  </tbody>\n",
       "</table>\n",
       "</div>"
      ],
      "text/plain": [
       "                                               x  y\n",
       "4332          세훈이 촬영 때문에 바빠요 비비랑 아직도 같이 있으면 좋겠어요  😘\n",
       "4340                              가 다시 한번 그것을한다면  💯\n",
       "4351                                   파산도 드래곤볼츠  😍\n",
       "4356                                   파산도 드래곤볼츠  😍\n",
       "4358                               진짜 역대급 귀여워요 옴  😍\n",
       "4359     내 이마에 대고 말할 수 있는 여자는 한 명뿐이고 우리 엄마도 아니에요  😂\n",
       "4360                               진짜 역대급 귀여워요 옴  😍\n",
       "4361                                평화와 사랑을 그대에게  ❤\n",
       "4374  우정을 고치고 신뢰를 회복하는 것이 서로에게 노래를 부르는 것만 큼 쉬웠다면  😍\n",
       "4378                                 너무 잘 알고 있어요  😂"
      ]
     },
     "execution_count": 24,
     "metadata": {},
     "output_type": "execute_result"
    }
   ],
   "source": [
    "print(len(df))\n",
    "df.tail(10)"
   ]
  },
  {
   "cell_type": "code",
   "execution_count": 25,
   "metadata": {},
   "outputs": [],
   "source": [
    "df.to_csv('data/twitter_clean.csv', index=False)"
   ]
  },
  {
   "cell_type": "code",
   "execution_count": null,
   "metadata": {},
   "outputs": [],
   "source": []
  }
 ],
 "metadata": {
  "kernelspec": {
   "display_name": "Python 3 (ipykernel)",
   "language": "python",
   "name": "python3"
  },
  "language_info": {
   "codemirror_mode": {
    "name": "ipython",
    "version": 3
   },
   "file_extension": ".py",
   "mimetype": "text/x-python",
   "name": "python",
   "nbconvert_exporter": "python",
   "pygments_lexer": "ipython3",
   "version": "3.7.3"
  }
 },
 "nbformat": 4,
 "nbformat_minor": 2
}
