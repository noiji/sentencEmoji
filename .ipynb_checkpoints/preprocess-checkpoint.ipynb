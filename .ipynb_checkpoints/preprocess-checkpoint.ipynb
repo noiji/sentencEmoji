{
 "cells": [
  {
   "cell_type": "code",
   "execution_count": 1,
   "metadata": {},
   "outputs": [],
   "source": [
    "import re\n",
    "import pandas as pd\n",
    "from pandas import DataFrame as df\n",
    "import numpy as np\n",
    "import emoji"
   ]
  },
  {
   "cell_type": "code",
   "execution_count": 2,
   "metadata": {},
   "outputs": [
    {
     "data": {
      "text/plain": [
       "'RT @haha247979: @onemoreonce4bts @BTS_twt 넵넵💜 저..  늦게 해시 투표 동참한거 사실.. 조금.. 많이 죄송하긴 해써요😂😂\\n열심히 슨배님덜 따라갈게요~😍\\n\\nButter by BTS #BTS\\nStream #BTS_B…@green_zzang 맞아맞아 그렇긴 하지! 😂 근데 난 내용이 맘에 안 들거나 더 안 읽어도 되겠다 싶으면 다 안 읽었는데도 읽은 책처럼 생각해(!) ㅋㅋㅋㅋㅋ@weareDRIPPIN 오늘의 한마디를 주세요!😂\\n\\n#DRIPPIN #드리핀 #Villain #드리핀과_함께하는_멘션파티@KnitOhlala 이거 때문에 어제 실 주문을 한지라 ㅋㅋㅋㅋ 매우 찔립니다요!!! 근데 넘 잘 입을 것 같아서 함뜨참가! 얍! 색조합 잘 못하는데 원작하고 비슷하게 갑니다 😂@shotasaigo 까까님😂😂 생일메세지 정말 감사해요 🥺🥺💙 끝까지 덕질해라는 뜻인가봐요😇 까까님도 남은 시간 즐겁게 보내세요 🥰🥰아 내스급 성현제 책갈피가 아니라 옷핀입니다😂😂'"
      ]
     },
     "execution_count": 2,
     "metadata": {},
     "output_type": "execute_result"
    }
   ],
   "source": [
    "twitter_file = open(\"data/raw_korean.txt\", \"r\", encoding = \"utf-8\")\n",
    "twitter = twitter_file.read()\n",
    "twitter_file.close()\n",
    "\n",
    "twitter[:500]"
   ]
  },
  {
   "cell_type": "code",
   "execution_count": 3,
   "metadata": {},
   "outputs": [
    {
     "data": {
      "text/html": [
       "<div>\n",
       "<style scoped>\n",
       "    .dataframe tbody tr th:only-of-type {\n",
       "        vertical-align: middle;\n",
       "    }\n",
       "\n",
       "    .dataframe tbody tr th {\n",
       "        vertical-align: top;\n",
       "    }\n",
       "\n",
       "    .dataframe thead th {\n",
       "        text-align: right;\n",
       "    }\n",
       "</style>\n",
       "<table border=\"1\" class=\"dataframe\">\n",
       "  <thead>\n",
       "    <tr style=\"text-align: right;\">\n",
       "      <th></th>\n",
       "      <th>class</th>\n",
       "      <th>emojis</th>\n",
       "    </tr>\n",
       "  </thead>\n",
       "  <tbody>\n",
       "    <tr>\n",
       "      <th>0</th>\n",
       "      <td>{love}</td>\n",
       "      <td>❤️</td>\n",
       "    </tr>\n",
       "    <tr>\n",
       "      <th>1</th>\n",
       "      <td>{love}</td>\n",
       "      <td>😍</td>\n",
       "    </tr>\n",
       "    <tr>\n",
       "      <th>2</th>\n",
       "      <td>{love}</td>\n",
       "      <td>💕</td>\n",
       "    </tr>\n",
       "    <tr>\n",
       "      <th>3</th>\n",
       "      <td>{love}</td>\n",
       "      <td>😘</td>\n",
       "    </tr>\n",
       "    <tr>\n",
       "      <th>4</th>\n",
       "      <td>{love}</td>\n",
       "      <td>💖</td>\n",
       "    </tr>\n",
       "    <tr>\n",
       "      <th>...</th>\n",
       "      <td>...</td>\n",
       "      <td>...</td>\n",
       "    </tr>\n",
       "    <tr>\n",
       "      <th>94</th>\n",
       "      <td>🤘</td>\n",
       "      <td>🤘</td>\n",
       "    </tr>\n",
       "    <tr>\n",
       "      <th>95</th>\n",
       "      <td>💦</td>\n",
       "      <td>💦</td>\n",
       "    </tr>\n",
       "    <tr>\n",
       "      <th>96</th>\n",
       "      <td>😣</td>\n",
       "      <td>😣</td>\n",
       "    </tr>\n",
       "    <tr>\n",
       "      <th>97</th>\n",
       "      <td>🏃</td>\n",
       "      <td>🏃</td>\n",
       "    </tr>\n",
       "    <tr>\n",
       "      <th>98</th>\n",
       "      <td>☝️</td>\n",
       "      <td>☝️</td>\n",
       "    </tr>\n",
       "  </tbody>\n",
       "</table>\n",
       "<p>99 rows × 2 columns</p>\n",
       "</div>"
      ],
      "text/plain": [
       "     class emojis\n",
       "0   {love}     ❤️\n",
       "1   {love}      😍\n",
       "2   {love}      💕\n",
       "3   {love}      😘\n",
       "4   {love}      💖\n",
       "..     ...    ...\n",
       "94       🤘      🤘\n",
       "95       💦      💦\n",
       "96       😣      😣\n",
       "97       🏃      🏃\n",
       "98      ☝️     ☝️\n",
       "\n",
       "[99 rows x 2 columns]"
      ]
     },
     "execution_count": 3,
     "metadata": {},
     "output_type": "execute_result"
    }
   ],
   "source": [
    "classified_emojis = pd.read_csv('data/classified_emojis.csv', encoding = 'utf-8')\n",
    "classified_emojis.drop_duplicates(subset = ['emojis'], ignore_index = True)\n",
    "classified_emojis"
   ]
  },
  {
   "cell_type": "code",
   "execution_count": 4,
   "metadata": {},
   "outputs": [
    {
     "data": {
      "text/plain": [
       "'RT @haha247979: @onemoreonce4bts @BTS_twt 넵넵💜 저..  늦게 해시 투표 동참한거 사실.. 조금.. 많이 죄송하긴 해써요😂😂\\n열심히 슨배님덜 따라갈게요~😍\\n\\nButter by BTS #BTS\\nStream #BTS_B…@green_zzang 맞아맞아 그렇긴 하지! 😂 근데 난 내용이 맘에 안 들거나 더 안 읽어도 되겠다 싶으면 다 안 읽었는데도 읽은 책처럼 생각해(!) ㅋㅋㅋㅋㅋ@weareDRIPPIN 오늘의 한마디를 주세요!😂\\n\\n#DRIPPIN #드리핀 #Villain #드리핀과_함께하는_멘션파티@KnitOhlala 이거 때문에 어제 실 주문을 한지라 ㅋㅋㅋㅋ 매우 찔립니다요!!! 근데 넘 잘 입을 것 같아서 함뜨참가! 얍! 색조합 잘 못하는데 원작하고 비슷하게 갑니다 😂@shotasaigo 까까님😂😂 생일메세지 정말 감사해요 🥺🥺💙 끝까지 덕질해라는 뜻인가봐요😇 까까님도 남은 시간 즐겁게 보내세요 🥰🥰아 내스급 성현제 책갈피가 아니라 옷핀입니다😂😂'"
      ]
     },
     "execution_count": 4,
     "metadata": {},
     "output_type": "execute_result"
    }
   ],
   "source": [
    "#big data crawled with academic api added\n",
    "twitter_file_big = open(\"data/raw_korean_2015_2021.txt\", \"r\", encoding = \"utf-8\")\n",
    "twitter += twitter_file_big.read()\n",
    "twitter_file_big.close()\n",
    "\n",
    "twitter[:500]"
   ]
  },
  {
   "cell_type": "code",
   "execution_count": 5,
   "metadata": {},
   "outputs": [],
   "source": [
    "# kaggle_file = open(\"data/kaggle_translated.txt\", \"r\", encoding = \"utf-8\")\n",
    "# kaggle = kaggle_file.read()\n",
    "# kaggle = kaggle.replace(\"⁇\", \"\")\n",
    "# kaggle_file.close()\n",
    "\n",
    "# kaggle[:500]"
   ]
  },
  {
   "cell_type": "code",
   "execution_count": 6,
   "metadata": {},
   "outputs": [],
   "source": [
    "# text = twitter + kaggle\n",
    "text = twitter"
   ]
  },
  {
   "cell_type": "code",
   "execution_count": 7,
   "metadata": {},
   "outputs": [
    {
     "data": {
      "text/plain": [
       "' 스텔라와 함께해주신 년 올해도 감사합니다❤️\\u200d🔥❤️\\u200d🔥🌈🌈💕💕🎄🎄🏃🏻\\u200d♀️🏃🏻\\u200d♀️👈👈🥂🥂내년에도 행복한 기억과 대화들이 가득한 트위터 가좍들이 될 수 있기를!!!!❣️❣️❣️싸랑해요😍😍🥰🥰🥰😍🥰🥰🥰🥰🥰푹 자다 일어나서 시계 보는데 점심시간이 다 되어가고, 새벽에 깼다 다시 잠든 시목이 보면서 검사님 왜 안깨웠어요?! 소리치면 황시먹 되게 어이 없을듯ㅋㅋㅋ 눈도 제대로 못 뜨고 경감님이 안 일어나셨는데요...😞그냥 집에서 전기장판 틀고 뒹굴어라 바보검사 바보경찰들아 혼자 맛있는 거 묵네…😞 우리 다 왤케 힘들게 살지...?😞 반응이 있는지 없는지 아무런 고지도 없네요. 보일때마다 득달같이 달려들어 신고하지만,,,  방응이천무합니다.😞요즘 알림창 알티 마음 이런 거 다 씹히고 심지어 멘션도 안 뜨고,, 탐라도 씹혀서 타래 달린 게 클릭 해야 보이고,, 😞 왜 이러나 모르겠어  새로 그리기엔 시간이 없고, 그냥 보내긴 아쉬워서 예전 그림수정😞 주년 🎉🎉  . 타이레놀먹구 잠 ,,,😞😞'"
      ]
     },
     "execution_count": 7,
     "metadata": {},
     "output_type": "execute_result"
    }
   ],
   "source": [
    "#영문, 특수문자(? ! . 제외), 숫자 제거\n",
    "text = re.sub('[a-zA-z]','',text)\n",
    "text = re.sub('[\\{\\}\\[\\]\\/;:|\\)*~`^\\-_+<>@\\#$%&\\\\\\=\\(\\'\\\"\\♥\\♡\\n0-9]','',text)\n",
    "text = text.strip()\n",
    "text[-500:]"
   ]
  },
  {
   "cell_type": "code",
   "execution_count": 8,
   "metadata": {},
   "outputs": [
    {
     "data": {
      "text/plain": [
       "[{'location': 2, 'emoji': '💜'},\n",
       " {'location': 44, 'emoji': '😂'},\n",
       " {'location': 45, 'emoji': '😂'},\n",
       " {'location': 60, 'emoji': '😍'},\n",
       " {'location': 80, 'emoji': '😂'},\n",
       " {'location': 157, 'emoji': '😂'},\n",
       " {'location': 264, 'emoji': '😂'},\n",
       " {'location': 269, 'emoji': '😂'},\n",
       " {'location': 270, 'emoji': '😂'},\n",
       " {'location': 286, 'emoji': '🥺'}]"
      ]
     },
     "execution_count": 8,
     "metadata": {},
     "output_type": "execute_result"
    }
   ],
   "source": [
    "emojis = emoji.emoji_lis(text)\n",
    "emojis[:10]"
   ]
  },
  {
   "cell_type": "code",
   "execution_count": 9,
   "metadata": {},
   "outputs": [
    {
     "name": "stdout",
     "output_type": "stream",
     "text": [
      "1580\n"
     ]
    },
    {
     "data": {
      "text/plain": [
       "['👂🏻', '🧙', '🤙🏽', '👀', '🏃', '🧑\\u200d🍳', '🎓', '🐺', '🤼\\u200d♀️', '✋🏿']"
      ]
     },
     "execution_count": 9,
     "metadata": {},
     "output_type": "execute_result"
    }
   ],
   "source": [
    "emojis = list(set([i['emoji'] for i in emojis]))\n",
    "print(len(emojis))\n",
    "emojis[:10]"
   ]
  },
  {
   "cell_type": "code",
   "execution_count": 10,
   "metadata": {},
   "outputs": [
    {
     "data": {
      "text/plain": [
       "'넵넵💜 저. 늦게 해시 투표 동참한거 사실. 조금. 많이 죄송하긴 해써요😂열심히 슨배님덜 따라갈게요😍 … 맞아맞아 그렇긴 하지! 😂 근데 난 내용이 맘에 안 들거나 더 안 읽어도 되겠다 싶으면 다 안 읽었는데도 읽은 책처럼 생각해! ㅋ 오늘의 한마디를 주세요!😂 드리핀 드리핀과함께하는멘션파티 이거 때문에 어제 실 주문을 한지라 ㅋ 매우 찔립니다요! 근데 넘 잘 입을 것 같아서 함뜨참가! 얍! 색조합 잘 못하는데 원작하고 비슷하게 갑니다 😂 까까님😂 생일메세지 정말 감사해요 🥺💙 끝까지 덕질해라는 뜻인가봐요😇 까까님도 남은 시간 즐겁게 보내세요 🥰아 내스급 성현제 책갈피가 아니라 옷핀입니다😂 뮤지광컴퍼니는 끝났지만 나는 멈추지 않는다.정규직 기다려라.😂모두들 감사합니다❤️👍유튜브는 아직 남았어용ㅎ크래비티 형준 아이돌라이브 뮤지광 . 우왕😍 솜사탕😙차배치가 초컷이래서😂 우리껀 춘절이후에 받아욥요기는 솜사탕 차폼이용😁 . 에에 아직 못갈겼어 담달에 살구야!😂🔥 흐뭇하게 시작해서 중간에 탈'"
      ]
     },
     "execution_count": 10,
     "metadata": {},
     "output_type": "execute_result"
    }
   ],
   "source": [
    "delimiters = ['.', '!', '?', 'ㅎ', 'ㅋ', ' ']\n",
    "delimiters.extend(emojis)\n",
    "\n",
    "#두번이상 반복된 것 한 번으로 축소\n",
    "for d in delimiters:\n",
    "    flag = False\n",
    "    while True:\n",
    "        if text.find(d+d) == -1:\n",
    "            break\n",
    "        text = text.replace(d+d, d)\n",
    "\n",
    "text[:500]"
   ]
  },
  {
   "cell_type": "code",
   "execution_count": 11,
   "metadata": {},
   "outputs": [
    {
     "data": {
      "text/html": [
       "<div>\n",
       "<style scoped>\n",
       "    .dataframe tbody tr th:only-of-type {\n",
       "        vertical-align: middle;\n",
       "    }\n",
       "\n",
       "    .dataframe tbody tr th {\n",
       "        vertical-align: top;\n",
       "    }\n",
       "\n",
       "    .dataframe thead th {\n",
       "        text-align: right;\n",
       "    }\n",
       "</style>\n",
       "<table border=\"1\" class=\"dataframe\">\n",
       "  <thead>\n",
       "    <tr style=\"text-align: right;\">\n",
       "      <th></th>\n",
       "      <th>x</th>\n",
       "      <th>y</th>\n",
       "    </tr>\n",
       "  </thead>\n",
       "  <tbody>\n",
       "  </tbody>\n",
       "</table>\n",
       "</div>"
      ],
      "text/plain": [
       "Empty DataFrame\n",
       "Columns: [x, y]\n",
       "Index: []"
      ]
     },
     "execution_count": 11,
     "metadata": {},
     "output_type": "execute_result"
    }
   ],
   "source": [
    "df = df(columns = ['x', 'y'])\n",
    "df"
   ]
  },
  {
   "cell_type": "code",
   "execution_count": 12,
   "metadata": {},
   "outputs": [
    {
     "data": {
      "text/plain": [
       "'{love}'"
      ]
     },
     "execution_count": 12,
     "metadata": {},
     "output_type": "execute_result"
    }
   ],
   "source": [
    "classified_emojis[classified_emojis['emojis'] == '😍']['class'].head(1).item()"
   ]
  },
  {
   "cell_type": "code",
   "execution_count": 28,
   "metadata": {},
   "outputs": [
    {
     "data": {
      "text/plain": [
       "11651530"
      ]
     },
     "execution_count": 28,
     "metadata": {},
     "output_type": "execute_result"
    }
   ],
   "source": [
    "len(text)"
   ]
  },
  {
   "cell_type": "code",
   "execution_count": 30,
   "metadata": {},
   "outputs": [],
   "source": [
    "delimiters.remove(' ')\n",
    "x = \"\"\n",
    "\n",
    "for i in range(len(text)):\n",
    "    if text[i] in delimiters:\n",
    "#         if i+1 < len(text) and text[i+1] in delimiters:\n",
    "#             continue\n",
    "        if len(x) < 10:\n",
    "            continue\n",
    "        if text[i] not in emojis:\n",
    "          #  df = df.append({'x': x, 'y': 'N'}, ignore_index = True)\n",
    "            x = \"\"\n",
    "            continue\n",
    "        elif text[i] in list(classified_emojis['emojis']):  # classified_emojis에 없는 것은 무시한다.\n",
    "            emoji = classified_emojis[classified_emojis['emojis'] == text[i]]['class'].head(1).item()\n",
    "            df = df.append({'x': x, 'y': emoji}, ignore_index = True)\n",
    "        x = \"\"\n",
    "    else:\n",
    "        x += text[i]"
   ]
  },
  {
   "cell_type": "code",
   "execution_count": 31,
   "metadata": {},
   "outputs": [
    {
     "data": {
      "text/html": [
       "<div>\n",
       "<style scoped>\n",
       "    .dataframe tbody tr th:only-of-type {\n",
       "        vertical-align: middle;\n",
       "    }\n",
       "\n",
       "    .dataframe tbody tr th {\n",
       "        vertical-align: top;\n",
       "    }\n",
       "\n",
       "    .dataframe thead th {\n",
       "        text-align: right;\n",
       "    }\n",
       "</style>\n",
       "<table border=\"1\" class=\"dataframe\">\n",
       "  <thead>\n",
       "    <tr style=\"text-align: right;\">\n",
       "      <th></th>\n",
       "      <th>x</th>\n",
       "      <th>y</th>\n",
       "    </tr>\n",
       "  </thead>\n",
       "  <tbody>\n",
       "    <tr>\n",
       "      <th>0</th>\n",
       "      <td>조금 많이 죄송하긴 해써요</td>\n",
       "      <td>{laughing-out}</td>\n",
       "    </tr>\n",
       "    <tr>\n",
       "      <th>1</th>\n",
       "      <td>열심히 슨배님덜 따라갈게요</td>\n",
       "      <td>{love}</td>\n",
       "    </tr>\n",
       "    <tr>\n",
       "      <th>2</th>\n",
       "      <td>얍 색조합 잘 못하는데 원작하고 비슷하게 갑니다</td>\n",
       "      <td>{laughing-out}</td>\n",
       "    </tr>\n",
       "    <tr>\n",
       "      <th>3</th>\n",
       "      <td>끝까지 덕질해라는 뜻인가봐요</td>\n",
       "      <td>{kind-smile}</td>\n",
       "    </tr>\n",
       "    <tr>\n",
       "      <th>4</th>\n",
       "      <td>아 내스급 성현제 책갈피가 아니라 옷핀입니다</td>\n",
       "      <td>{laughing-out}</td>\n",
       "    </tr>\n",
       "  </tbody>\n",
       "</table>\n",
       "</div>"
      ],
      "text/plain": [
       "                            x               y\n",
       "0              조금 많이 죄송하긴 해써요  {laughing-out}\n",
       "1              열심히 슨배님덜 따라갈게요          {love}\n",
       "2  얍 색조합 잘 못하는데 원작하고 비슷하게 갑니다  {laughing-out}\n",
       "3             끝까지 덕질해라는 뜻인가봐요    {kind-smile}\n",
       "4    아 내스급 성현제 책갈피가 아니라 옷핀입니다  {laughing-out}"
      ]
     },
     "execution_count": 31,
     "metadata": {},
     "output_type": "execute_result"
    }
   ],
   "source": [
    "df.head()"
   ]
  },
  {
   "cell_type": "code",
   "execution_count": 33,
   "metadata": {},
   "outputs": [
    {
     "data": {
      "text/plain": [
       "166062"
      ]
     },
     "execution_count": 33,
     "metadata": {},
     "output_type": "execute_result"
    }
   ],
   "source": [
    "len(df) # -> 30988 166062"
   ]
  },
  {
   "cell_type": "code",
   "execution_count": 34,
   "metadata": {},
   "outputs": [],
   "source": [
    "#중복 제거\n",
    "df = df.drop_duplicates(subset = ['x']).reset_index(drop = True)"
   ]
  },
  {
   "cell_type": "code",
   "execution_count": 35,
   "metadata": {
    "scrolled": true
   },
   "outputs": [
    {
     "name": "stdout",
     "output_type": "stream",
     "text": [
      "64573\n"
     ]
    },
    {
     "data": {
      "text/html": [
       "<div>\n",
       "<style scoped>\n",
       "    .dataframe tbody tr th:only-of-type {\n",
       "        vertical-align: middle;\n",
       "    }\n",
       "\n",
       "    .dataframe tbody tr th {\n",
       "        vertical-align: top;\n",
       "    }\n",
       "\n",
       "    .dataframe thead th {\n",
       "        text-align: right;\n",
       "    }\n",
       "</style>\n",
       "<table border=\"1\" class=\"dataframe\">\n",
       "  <thead>\n",
       "    <tr style=\"text-align: right;\">\n",
       "      <th></th>\n",
       "      <th>x</th>\n",
       "      <th>y</th>\n",
       "    </tr>\n",
       "  </thead>\n",
       "  <tbody>\n",
       "    <tr>\n",
       "      <th>0</th>\n",
       "      <td>조금 많이 죄송하긴 해써요</td>\n",
       "      <td>{laughing-out}</td>\n",
       "    </tr>\n",
       "    <tr>\n",
       "      <th>1</th>\n",
       "      <td>열심히 슨배님덜 따라갈게요</td>\n",
       "      <td>{love}</td>\n",
       "    </tr>\n",
       "    <tr>\n",
       "      <th>2</th>\n",
       "      <td>얍 색조합 잘 못하는데 원작하고 비슷하게 갑니다</td>\n",
       "      <td>{laughing-out}</td>\n",
       "    </tr>\n",
       "    <tr>\n",
       "      <th>3</th>\n",
       "      <td>끝까지 덕질해라는 뜻인가봐요</td>\n",
       "      <td>{kind-smile}</td>\n",
       "    </tr>\n",
       "    <tr>\n",
       "      <th>4</th>\n",
       "      <td>아 내스급 성현제 책갈피가 아니라 옷핀입니다</td>\n",
       "      <td>{laughing-out}</td>\n",
       "    </tr>\n",
       "  </tbody>\n",
       "</table>\n",
       "</div>"
      ],
      "text/plain": [
       "                            x               y\n",
       "0              조금 많이 죄송하긴 해써요  {laughing-out}\n",
       "1              열심히 슨배님덜 따라갈게요          {love}\n",
       "2  얍 색조합 잘 못하는데 원작하고 비슷하게 갑니다  {laughing-out}\n",
       "3             끝까지 덕질해라는 뜻인가봐요    {kind-smile}\n",
       "4    아 내스급 성현제 책갈피가 아니라 옷핀입니다  {laughing-out}"
      ]
     },
     "execution_count": 35,
     "metadata": {},
     "output_type": "execute_result"
    }
   ],
   "source": [
    "print(len(df))\n",
    "df.head() #2231 -> 5725 -> 64573"
   ]
  },
  {
   "cell_type": "code",
   "execution_count": 36,
   "metadata": {},
   "outputs": [],
   "source": [
    "#x; 한국어만 남기기\n",
    "df['x'] = [re.compile('[^ ㄱ-ㅣ가-힣]+').sub('', df['x'][i]).strip() for i in range(len(df['x']))]"
   ]
  },
  {
   "cell_type": "code",
   "execution_count": 37,
   "metadata": {},
   "outputs": [
    {
     "data": {
      "text/plain": [
       "64573"
      ]
     },
     "execution_count": 37,
     "metadata": {},
     "output_type": "execute_result"
    }
   ],
   "source": [
    "len(df) #total data length -> 15715"
   ]
  },
  {
   "cell_type": "code",
   "execution_count": 46,
   "metadata": {},
   "outputs": [],
   "source": [
    "df.to_csv('data/twitter_clean_all.csv', index=False)"
   ]
  },
  {
   "cell_type": "code",
   "execution_count": 38,
   "metadata": {
    "scrolled": false
   },
   "outputs": [
    {
     "data": {
      "text/plain": [
       "{love}                10156\n",
       "{kind-smile}           6140\n",
       "{open-mouth-smile}     4459\n",
       "{good-job}             4350\n",
       "{solid-sad}            4219\n",
       "{dunno}                2426\n",
       "😭                      2259\n",
       "{star}                 2208\n",
       "{flower}               2096\n",
       "{hope}                 1920\n",
       "{laughing-out}         1788\n",
       "❗                      1305\n",
       "{mad}                   953\n",
       "😏                       889\n",
       "🔥                       842\n",
       "😓                       833\n",
       "💪                       735\n",
       "😳                       695\n",
       "😅                       680\n",
       "🙌                       660\n",
       "😣                       633\n",
       "🏃                       630\n",
       "💋                       612\n",
       "😎                       610\n",
       "😑                       594\n",
       "😋                       587\n",
       "👊                       572\n",
       "🎶                       553\n",
       "🌈                       544\n",
       "👀                       544\n",
       "👉                       537\n",
       "🙋                       526\n",
       "💔                       510\n",
       "🤦                       510\n",
       "🤘                       491\n",
       "😴                       484\n",
       "😜                       473\n",
       "{cute-smile}            468\n",
       "👇                       465\n",
       "😱                       458\n",
       "😪                       449\n",
       "💦                       419\n",
       "😒                       410\n",
       "💥                       404\n",
       "😈                       402\n",
       "{check-mark}            390\n",
       "👌                       375\n",
       "✋                       365\n",
       "🤤                       321\n",
       "💃                       319\n",
       "😬                       305\n",
       "Name: y, dtype: int64"
      ]
     },
     "execution_count": 38,
     "metadata": {},
     "output_type": "execute_result"
    }
   ],
   "source": [
    "df_count = df['y'].value_counts(sort = True)\n",
    "len(df_count) #unique labels\n",
    "df_count"
   ]
  },
  {
   "cell_type": "code",
   "execution_count": 47,
   "metadata": {},
   "outputs": [
    {
     "data": {
      "text/html": [
       "<div>\n",
       "<style scoped>\n",
       "    .dataframe tbody tr th:only-of-type {\n",
       "        vertical-align: middle;\n",
       "    }\n",
       "\n",
       "    .dataframe tbody tr th {\n",
       "        vertical-align: top;\n",
       "    }\n",
       "\n",
       "    .dataframe thead th {\n",
       "        text-align: right;\n",
       "    }\n",
       "</style>\n",
       "<table border=\"1\" class=\"dataframe\">\n",
       "  <thead>\n",
       "    <tr style=\"text-align: right;\">\n",
       "      <th></th>\n",
       "      <th>x</th>\n",
       "      <th>y</th>\n",
       "    </tr>\n",
       "  </thead>\n",
       "  <tbody>\n",
       "    <tr>\n",
       "      <th>1</th>\n",
       "      <td>열심히 슨배님덜 따라갈게요</td>\n",
       "      <td>{love}</td>\n",
       "    </tr>\n",
       "    <tr>\n",
       "      <th>3</th>\n",
       "      <td>끝까지 덕질해라는 뜻인가봐요</td>\n",
       "      <td>{kind-smile}</td>\n",
       "    </tr>\n",
       "    <tr>\n",
       "      <th>6</th>\n",
       "      <td>우리껀 춘절이후에 받아욥요기는 솜사탕 차폼이용</td>\n",
       "      <td>{open-mouth-smile}</td>\n",
       "    </tr>\n",
       "    <tr>\n",
       "      <th>9</th>\n",
       "      <td>아래 공지사항을 꼭 읽으신 후 이벤트에 함께 해주세요</td>\n",
       "      <td>{good-job}</td>\n",
       "    </tr>\n",
       "    <tr>\n",
       "      <th>11</th>\n",
       "      <td>에스에프나인  루아이의 넘치는 애정을 받고 모두의 마음을 이리저리 흔들던 요한이의 ...</td>\n",
       "      <td>{love}</td>\n",
       "    </tr>\n",
       "    <tr>\n",
       "      <th>14</th>\n",
       "      <td>끝까지 덕질해라는 뜻인가봐요</td>\n",
       "      <td>{kind-smile}</td>\n",
       "    </tr>\n",
       "    <tr>\n",
       "      <th>16</th>\n",
       "      <td>우리껀 춘절이후에 받아욥요기는 솜사탕 차폼이용</td>\n",
       "      <td>{open-mouth-smile}</td>\n",
       "    </tr>\n",
       "    <tr>\n",
       "      <th>19</th>\n",
       "      <td>에스에프나인  루아이의 넘치는 애정을 받고 모두의 마음을 이리저리 흔들던 요한이의 ...</td>\n",
       "      <td>{love}</td>\n",
       "    </tr>\n",
       "    <tr>\n",
       "      <th>20</th>\n",
       "      <td>제가 왕창 살게여</td>\n",
       "      <td>{love}</td>\n",
       "    </tr>\n",
       "    <tr>\n",
       "      <th>21</th>\n",
       "      <td>와 ㅅㅂ 잠시만요</td>\n",
       "      <td>{love}</td>\n",
       "    </tr>\n",
       "  </tbody>\n",
       "</table>\n",
       "</div>"
      ],
      "text/plain": [
       "                                                    x                   y\n",
       "1                                      열심히 슨배님덜 따라갈게요              {love}\n",
       "3                                     끝까지 덕질해라는 뜻인가봐요        {kind-smile}\n",
       "6                           우리껀 춘절이후에 받아욥요기는 솜사탕 차폼이용  {open-mouth-smile}\n",
       "9                       아래 공지사항을 꼭 읽으신 후 이벤트에 함께 해주세요          {good-job}\n",
       "11  에스에프나인  루아이의 넘치는 애정을 받고 모두의 마음을 이리저리 흔들던 요한이의 ...              {love}\n",
       "14                                    끝까지 덕질해라는 뜻인가봐요        {kind-smile}\n",
       "16                          우리껀 춘절이후에 받아욥요기는 솜사탕 차폼이용  {open-mouth-smile}\n",
       "19  에스에프나인  루아이의 넘치는 애정을 받고 모두의 마음을 이리저리 흔들던 요한이의 ...              {love}\n",
       "20                                          제가 왕창 살게여              {love}\n",
       "21                                          와 ㅅㅂ 잠시만요              {love}"
      ]
     },
     "execution_count": 47,
     "metadata": {},
     "output_type": "execute_result"
    }
   ],
   "source": [
    "#count 10 이하인 것 제거\n",
    "# more_than_ten = df_count[df_count > 10]\n",
    "\n",
    "#라벨 수를 최빈도 순 줄인다.\n",
    "frequent_labels = list(df_count.head(5).index)\n",
    "df_sort = df[df['y'].isin(frequent_labels)]\n",
    "df_sort.head(10)"
   ]
  },
  {
   "cell_type": "code",
   "execution_count": 48,
   "metadata": {},
   "outputs": [
    {
     "data": {
      "text/plain": [
       "29324"
      ]
     },
     "execution_count": 48,
     "metadata": {},
     "output_type": "execute_result"
    }
   ],
   "source": [
    "len(df_sort) #total data length 1261 -> 6166 -> 40233"
   ]
  },
  {
   "cell_type": "code",
   "execution_count": 49,
   "metadata": {},
   "outputs": [
    {
     "name": "stdout",
     "output_type": "stream",
     "text": [
      "5\n"
     ]
    },
    {
     "data": {
      "text/plain": [
       "{love}                10156\n",
       "{kind-smile}           6140\n",
       "{open-mouth-smile}     4459\n",
       "{good-job}             4350\n",
       "{solid-sad}            4219\n",
       "Name: y, dtype: int64"
      ]
     },
     "execution_count": 49,
     "metadata": {},
     "output_type": "execute_result"
    }
   ],
   "source": [
    "df_count = df_sort['y'].value_counts(sort = True)\n",
    "print(len(df_count))\n",
    "df_count\n",
    "\n",
    "# {love}                141\n",
    "# {kind-smile}          119\n",
    "# {laughing-out}         96\n",
    "# {open-mouth-smile}     84\n",
    "# {good-job}             81\n",
    "# Name: y, dtype: int64\n",
    "\n",
    "# {love}                1537\n",
    "# {kind-smile}          1355\n",
    "# {solid-sad}           1173\n",
    "# {open-mouth-smile}    1148\n",
    "# {good-job}             953\n",
    "# Name: y, dtype: int64"
   ]
  },
  {
   "cell_type": "code",
   "execution_count": 50,
   "metadata": {},
   "outputs": [],
   "source": [
    "# #undersample data with label 'N'\n",
    "# tail_len = int(len(df[df['y'] == 'N']) * 0.9)\n",
    "# to_drop = df[df['y']=='N'].tail(tail_len)\n",
    "# df = df.drop(to_drop.index) \n",
    "# df.reset_index(drop = True)"
   ]
  },
  {
   "cell_type": "code",
   "execution_count": 51,
   "metadata": {},
   "outputs": [],
   "source": [
    "# df_count = df['y'].value_counts(sort = True)\n",
    "# print(len(df_count))\n",
    "# df_count"
   ]
  },
  {
   "cell_type": "code",
   "execution_count": 52,
   "metadata": {
    "scrolled": true
   },
   "outputs": [],
   "source": [
    "# print(len(df))\n",
    "# df.tail(10)"
   ]
  },
  {
   "cell_type": "code",
   "execution_count": 53,
   "metadata": {},
   "outputs": [],
   "source": [
    "df_sort.to_csv('data/twitter_clean.csv', index=False)"
   ]
  },
  {
   "cell_type": "code",
   "execution_count": null,
   "metadata": {},
   "outputs": [],
   "source": []
  },
  {
   "cell_type": "code",
   "execution_count": null,
   "metadata": {},
   "outputs": [],
   "source": []
  }
 ],
 "metadata": {
  "kernelspec": {
   "display_name": "Python 3 (ipykernel)",
   "language": "python",
   "name": "python3"
  },
  "language_info": {
   "codemirror_mode": {
    "name": "ipython",
    "version": 3
   },
   "file_extension": ".py",
   "mimetype": "text/x-python",
   "name": "python",
   "nbconvert_exporter": "python",
   "pygments_lexer": "ipython3",
   "version": "3.7.3"
  }
 },
 "nbformat": 4,
 "nbformat_minor": 2
}
