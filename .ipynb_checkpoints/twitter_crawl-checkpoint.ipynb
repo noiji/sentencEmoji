{
 "cells": [
  {
   "cell_type": "code",
   "execution_count": 1,
   "metadata": {},
   "outputs": [],
   "source": [
    "#ver. 2022-02-06\n",
    "import requests\n",
    "import json"
   ]
  },
  {
   "cell_type": "code",
   "execution_count": 2,
   "metadata": {},
   "outputs": [],
   "source": [
    "f = open(\"data/twitter_bearer_token.txt\", \"r\", encoding = \"utf-8\")\n",
    "bearer_token = f.readline()"
   ]
  },
  {
   "cell_type": "code",
   "execution_count": 3,
   "metadata": {},
   "outputs": [],
   "source": [
    "#full archive\n",
    "def send_api(query, bearer_token, lang, start_year):\n",
    "    url = \"https://api.twitter.com/2/tweets/search/all\"\n",
    "\n",
    "    headers = {\"Authorization\": \"Bearer {}\".format(bearer_token)}\n",
    "    params = {\n",
    "        'max_results':'500',\n",
    "        'start_time' : str(start_year) + '-01-01T00:00:00.000Z',\n",
    "        'end_time' : str(start_year + 1) + '-01-01T00:00:00.000Z',\n",
    "        'query': query + \" lang:\"+ lang\n",
    "    }\n",
    "    response = requests.get(url, headers = headers, params = params)\n",
    "#     print(response)\n",
    "    ret = response.json()['data']\n",
    "#     print(len(ret))\n",
    "    return ret       "
   ]
  },
  {
   "cell_type": "code",
   "execution_count": 4,
   "metadata": {},
   "outputs": [],
   "source": [
    "test = send_api('😂', bearer_token, 'ko', 2020)"
   ]
  },
  {
   "cell_type": "code",
   "execution_count": 5,
   "metadata": {},
   "outputs": [
    {
     "data": {
      "text/plain": [
       "['😂', '❤️', '😍', '🤣', '😊', '🙏', '💕', '😭', '😘', '👍']"
      ]
     },
     "execution_count": 5,
     "metadata": {},
     "output_type": "execute_result"
    }
   ],
   "source": [
    "f = open(\"data/top-100-emojis.txt\", \"r\", encoding = \"utf-8\")\n",
    "emojis = []\n",
    "\n",
    "emojis = f.readlines()\n",
    "emojis = [s.strip() for s in emojis]\n",
    "f.close()\n",
    "\n",
    "\n",
    "emojis[:10]"
   ]
  },
  {
   "cell_type": "code",
   "execution_count": 6,
   "metadata": {},
   "outputs": [
    {
     "name": "stdout",
     "output_type": "stream",
     "text": [
      "40285\n",
      "83485\n",
      "127623\n",
      "172843\n",
      "218642\n",
      "238412\n",
      "256174\n"
     ]
    }
   ],
   "source": [
    "#Twitter API로 데이터 불러오기: 최초에만 사용\n",
    "jsonlist = []\n",
    "\n",
    "for year in range(2015, 2022):\n",
    "    for e in emojis:\n",
    "        try:\n",
    "            ret = send_api(e, bearer_token, 'ko', year)\n",
    "            jsonlist.extend(ret)\n",
    "        except:\n",
    "            continue\n",
    "    print(len(jsonlist))"
   ]
  },
  {
   "cell_type": "code",
   "execution_count": 9,
   "metadata": {},
   "outputs": [
    {
     "data": {
      "text/plain": [
       "'682712824724860928'"
      ]
     },
     "execution_count": 9,
     "metadata": {},
     "output_type": "execute_result"
    }
   ],
   "source": [
    "jsonlist[0]['id']"
   ]
  },
  {
   "cell_type": "code",
   "execution_count": 10,
   "metadata": {},
   "outputs": [
    {
     "name": "stdout",
     "output_type": "stream",
     "text": [
      "\n",
      "\n",
      "\n",
      "\n",
      "\n",
      "\n",
      "\n",
      "\n",
      "\n",
      "\n",
      "\n",
      "\n",
      "\n",
      "\n",
      "\n",
      "\n",
      "\n",
      "\n",
      "\n",
      "\n",
      "\n",
      "\n",
      "\n"
     ]
    }
   ],
   "source": [
    "# id를 기준으로 중복된 Tweet 제거\n",
    "idlist = []\n",
    "rawtext = \"\"\n",
    "\n",
    "with open(\"data/raw_korean_2015_2021.txt\", \"a\", encoding = \"utf-8\") as f:    \n",
    "    for j in range(len(jsonlist)):\n",
    "        if jsonlist[j]['id'] in idlist:\n",
    "            continue\n",
    "        else:\n",
    "            idlist.append(jsonlist[j]['id'])\n",
    "            rawtext += jsonlist[j]['text']\n",
    "        if j % 10000 == 0:\n",
    "            f.write(rawtext)\n",
    "            rawtext = \"\""
   ]
  },
  {
   "cell_type": "code",
   "execution_count": 11,
   "metadata": {},
   "outputs": [
    {
     "data": {
      "text/plain": [
       "\"RT @MOTAESENMIcom: 151224 블랙크리스마스 파티 #위너 #송민호 🐶+🐦=😂💕 https://t.co/H9IaOt1okIRT @JusTaemin: 151231 가요대제전 종현형아와 잘 놀았던 태민이😂애들 기분 엄청 좋아보이더라구요💕 #태민 #taemin https://t.co/vEeRhDeRttRT @kimtaeyeonews: [Soostagram] hotsootuff: #HappyNewYear 🎉\\n2016 첫 #selfieeee❤️\\n#완전체 는 핸드폰...\\nhttps://t.co/BnzunRug3w \\n\\n💕💕where's seo😂 http…*Minho is inhaling helium from the ballon too*\\n\\nsinging: 엄마아아 행복하자아아아 ↗↗↗ (*Zion. T's song)\\n\\nEveryone: 😂😂😂 https://t.co/Npw222bGhT방탄소년단 😂😂😂 #bts 😍 https://t.co/eLkHbkkyihRT @JusTaemin: 1\""
      ]
     },
     "execution_count": 11,
     "metadata": {},
     "output_type": "execute_result"
    }
   ],
   "source": [
    "raw_korean = open(\"data/raw_korean_2015_2021.txt\", \"r\", encoding = \"utf-8\")\n",
    "rawtext = raw_korean.read()\n",
    "raw_korean.close()\n",
    "\n",
    "rawtext[:500]"
   ]
  },
  {
   "cell_type": "code",
   "execution_count": null,
   "metadata": {},
   "outputs": [],
   "source": []
  }
 ],
 "metadata": {
  "kernelspec": {
   "display_name": "Python 3 (ipykernel)",
   "language": "python",
   "name": "python3"
  },
  "language_info": {
   "codemirror_mode": {
    "name": "ipython",
    "version": 3
   },
   "file_extension": ".py",
   "mimetype": "text/x-python",
   "name": "python",
   "nbconvert_exporter": "python",
   "pygments_lexer": "ipython3",
   "version": "3.7.3"
  }
 },
 "nbformat": 4,
 "nbformat_minor": 2
}
