{
 "cells": [
  {
   "cell_type": "code",
   "execution_count": 1,
   "metadata": {},
   "outputs": [],
   "source": [
    "#Was using googletrans\n",
    "#but a problem was raised: googletrans nonetype' object has no attribute 'group'\n",
    "#solution => pip install google_trans_new"
   ]
  },
  {
   "cell_type": "code",
   "execution_count": 2,
   "metadata": {},
   "outputs": [],
   "source": [
    "from google_trans_new import google_translator  \n",
    "\n",
    "translator = google_translator()  \n",
    "\n",
    "# usage:\n",
    "# translate_text = translator.translate('สวัสดีจีน',lang_tgt='en')  \n"
   ]
  },
  {
   "cell_type": "code",
   "execution_count": 3,
   "metadata": {},
   "outputs": [],
   "source": [
    "# question = input()\n",
    "# question"
   ]
  },
  {
   "cell_type": "code",
   "execution_count": 4,
   "metadata": {},
   "outputs": [],
   "source": [
    "# #language detection\n",
    "# lang = translator.detect(question) \n",
    "# org_lang = lang[0] #will be used later for answer translation\n",
    "# org_lang"
   ]
  },
  {
   "cell_type": "code",
   "execution_count": 5,
   "metadata": {},
   "outputs": [],
   "source": [
    "# if org_lang != 'en':\n",
    "#     question = translator.translate(question, lang_tgt = 'en')\n",
    "\n",
    "# question"
   ]
  },
  {
   "cell_type": "code",
   "execution_count": 6,
   "metadata": {},
   "outputs": [],
   "source": [
    "#get the answer from my chatbot\n",
    "\n",
    "import http.client, urllib.parse, json, time, sys"
   ]
  },
  {
   "cell_type": "code",
   "execution_count": 7,
   "metadata": {},
   "outputs": [],
   "source": [
    "# # POST /knowledgebases/ac4613b0-c61e-4fd7-a4b6-b55caf548834/generateAnswer\n",
    "# # Host: https://swfc2021.azurewebsites.net/qnamaker\n",
    "# # Authorization: EndpointKey dbbaa754-48f2-4303-8094-5ba7484cd68d\n",
    "# # Content-Type: application/json\n",
    "# # {\"question\":\"<Your question>\"}\n",
    "\n",
    "# # Represents the various elements used to create HTTP request URIs\n",
    "# # for QnA Maker operations.\n",
    "# # From Publish Page\n",
    "# # Example: YOUR-RESOURCE-NAME.azurewebsites.net\n",
    "# # CAUTION: This is not the exact value of HOST field\n",
    "# # HOST trimmed to work with http library\n",
    "\n",
    "# host = \"swfc2021.azurewebsites.net\";\n",
    "\n",
    "# # Authorization endpoint key\n",
    "# # From Publish Page\n",
    "# endpoint_key = \"dbbaa754-48f2-4303-8094-5ba7484cd68d\";\n",
    "\n",
    "# # Management APIs postpend the version to the route\n",
    "# # From Publish Page\n",
    "# # Example: /knowledgebases/ZZZ15f8c-d01b-4698-a2de-85b0dbf3358c/generateAnswer\n",
    "# # CAUTION: This is not the exact value after POST\n",
    "# # Part of HOST is prepended to route to work with http library\n",
    "# route = \"/qnamaker/knowledgebases/ac4613b0-c61e-4fd7-a4b6-b55caf548834/generateAnswer\";"
   ]
  },
  {
   "cell_type": "code",
   "execution_count": 8,
   "metadata": {},
   "outputs": [],
   "source": [
    "# # JSON format for passing question to service\n",
    "# questions = {'question': question,'top': 3};\n",
    "# questions = str(questions)"
   ]
  },
  {
   "cell_type": "code",
   "execution_count": 9,
   "metadata": {},
   "outputs": [],
   "source": [
    "# headers = {\n",
    "# 'Authorization': 'EndpointKey ' + endpoint_key,\n",
    "# 'Content-Type': 'application/json'\n",
    "# }"
   ]
  },
  {
   "cell_type": "code",
   "execution_count": 10,
   "metadata": {},
   "outputs": [],
   "source": [
    "\n",
    "# try:\n",
    "#     conn = http.client.HTTPSConnection(host,port=443)\n",
    "#     conn.request (\"POST\", route,  questions, headers)\n",
    "#     response = conn.getresponse ()\n",
    "#     answer = response.read ()\n",
    "    \n",
    "#     ret = json.loads(answer)\n",
    "#     answer = ret['answers'][0]['answer']\n",
    "\n",
    "# except :\n",
    "#     print (\"Unexpected error:\", sys.exc_info()[0])\n",
    "#     print (\"Unexpected error:\", sys.exc_info()[1])"
   ]
  },
  {
   "cell_type": "code",
   "execution_count": 11,
   "metadata": {},
   "outputs": [],
   "source": [
    "# if org_lang != 'en':\n",
    "#     answer = translator.translate(answer, lang_tgt = org_lang)"
   ]
  },
  {
   "cell_type": "code",
   "execution_count": 12,
   "metadata": {},
   "outputs": [],
   "source": [
    "# print(answer)"
   ]
  },
  {
   "cell_type": "code",
   "execution_count": 13,
   "metadata": {},
   "outputs": [
    {
     "name": "stdout",
     "output_type": "stream",
     "text": [
      "안녕하세요?\n"
     ]
    }
   ],
   "source": [
    "text = input()"
   ]
  },
  {
   "cell_type": "code",
   "execution_count": 14,
   "metadata": {},
   "outputs": [],
   "source": [
    "#language detection\n",
    "lang = translator.detect(text) \n",
    "org_lang = lang[0] #will be used later for answer translation\n",
    "\n",
    "if org_lang != 'en':\n",
    "\n",
    "    text = translator.translate(text, lang_tgt = 'en')\n",
    "\n",
    "\n",
    "host = \"swfc2021.azurewebsites.net\"\n",
    "endpoint_key = \"dbbaa754-48f2-4303-8094-5ba7484cd68d\"\n",
    "route = \"/qnamaker/knowledgebases/ac4613b0-c61e-4fd7-a4b6-b55caf548834/generateAnswer\"\n",
    "\n",
    "questions = {'question': text,'top': 3}\n",
    "questions = str(questions)\n",
    "\n",
    "headers = {\n",
    "    'Authorization': 'EndpointKey ' + endpoint_key,\n",
    "    'Content-Type': 'application/json'\n",
    "}\n",
    "\n",
    "\n",
    "try:\n",
    "    conn = http.client.HTTPSConnection(host,port=443)\n",
    "    conn.request (\"POST\", route,  questions, headers)\n",
    "    response = conn.getresponse ()\n",
    "    answer = response.read ()\n",
    "\n",
    "    ret = json.loads(answer)\n",
    "    answer = ret['answers'][0]['answer']\n",
    "\n",
    "except :\n",
    "    answer = \"Sorry. Can't find an answer.\"\n",
    "    # print (\"Unexpected error:\", sys.exc_info()[0])\n",
    "    # print (\"Unexpected error:\", sys.exc_info()[1])\n",
    "\n",
    "if org_lang != 'en':\n",
    "    answer = translator.translate(answer, lang_tgt = org_lang)  \n"
   ]
  },
  {
   "cell_type": "code",
   "execution_count": 15,
   "metadata": {},
   "outputs": [
    {
     "data": {
      "text/plain": [
       "'좋은 아침. '"
      ]
     },
     "execution_count": 15,
     "metadata": {},
     "output_type": "execute_result"
    }
   ],
   "source": [
    "answer"
   ]
  },
  {
   "cell_type": "code",
   "execution_count": null,
   "metadata": {},
   "outputs": [],
   "source": []
  }
 ],
 "metadata": {
  "kernelspec": {
   "display_name": "Python 3",
   "language": "python",
   "name": "python3"
  },
  "language_info": {
   "codemirror_mode": {
    "name": "ipython",
    "version": 3
   },
   "file_extension": ".py",
   "mimetype": "text/x-python",
   "name": "python",
   "nbconvert_exporter": "python",
   "pygments_lexer": "ipython3",
   "version": "3.7.3"
  }
 },
 "nbformat": 4,
 "nbformat_minor": 2
}
