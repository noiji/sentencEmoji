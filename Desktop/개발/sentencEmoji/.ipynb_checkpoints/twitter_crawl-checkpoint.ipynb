{
 "cells": [
  {
   "cell_type": "code",
   "execution_count": 1,
   "metadata": {},
   "outputs": [],
   "source": [
    "import requests\n",
    "import json"
   ]
  },
  {
   "cell_type": "code",
   "execution_count": 2,
   "metadata": {},
   "outputs": [],
   "source": [
    "bearer_token = 'bearer_token'"
   ]
  },
  {
   "cell_type": "code",
   "execution_count": 59,
   "metadata": {},
   "outputs": [],
   "source": [
    "def send_api(query, bearer_token, lang):\n",
    "    url = \"https://api.twitter.com/2/tweets/search/recent\"\n",
    "    headers = {\"Authorization\": \"Bearer {}\".format(bearer_token)}\n",
    "    params = {\n",
    "        'query': query + \" lang:\"+ lang\n",
    "    }\n",
    "    response = requests.get(url, headers = headers, params = params)\n",
    "    \n",
    "    ret = response.json()['data']\n",
    "    return ret       "
   ]
  },
  {
   "cell_type": "code",
   "execution_count": 60,
   "metadata": {},
   "outputs": [],
   "source": [
    "test = send_api('😂', bearer_token, 'ko')"
   ]
  },
  {
   "cell_type": "code",
   "execution_count": 103,
   "metadata": {},
   "outputs": [],
   "source": [
    "f = open(\"data/top-100-emojis.txt\", \"r\", encoding = \"utf-8\")"
   ]
  },
  {
   "cell_type": "code",
   "execution_count": 51,
   "metadata": {},
   "outputs": [
    {
     "data": {
      "text/plain": [
       "['😂', '❤️', '😍', '🤣', '😊', '🙏', '💕', '😭', '😘', '👍']"
      ]
     },
     "execution_count": 51,
     "metadata": {},
     "output_type": "execute_result"
    }
   ],
   "source": [
    "emojis = []\n",
    "\n",
    "emojis = f.readlines()\n",
    "emojis = [s.strip() for s in strings]\n",
    "f.close()\n",
    "\n",
    "\n",
    "strings[:10]"
   ]
  },
  {
   "cell_type": "code",
   "execution_count": 63,
   "metadata": {},
   "outputs": [],
   "source": [
    "#Twitter API로 데이터 불러오기: 최초에만 사용\n",
    "jsonlist = []\n",
    "\n",
    "with open(\"data/student_file.json\", \"w\") as json_file:\n",
    "    for e in emojis:\n",
    "        try:\n",
    "            ret = send_api(e, bearer_token, 'ko')\n",
    "            jsonlist.extend(ret)\n",
    "        except:\n",
    "            continue"
   ]
  },
  {
   "cell_type": "code",
   "execution_count": null,
   "metadata": {},
   "outputs": [],
   "source": [
    "# id를 기준으로 중복된 Tweet 제거\n",
    "\n",
    "idlist = []\n",
    "rawtext = \"\"\n",
    "\n",
    "for j in jsonlist:\n",
    "    if j['id'] in idlist:\n",
    "        continue\n",
    "    else:\n",
    "        idlist.append(j['id'])\n",
    "        rawtext += j['text']\n",
    "\n",
    "print(rawtext[:500])\n",
    "\n",
    "raw_korean = open(\"data/raw_korean.txt\", \"w\", encoding = \"utf-8\")\n",
    "raw_korean.write(rawtext)\n",
    "raw_korean.close()"
   ]
  },
  {
   "cell_type": "code",
   "execution_count": 102,
   "metadata": {},
   "outputs": [
    {
     "data": {
      "text/plain": [
       "'RT @haha247979: @onemoreonce4bts @BTS_twt 넵넵💜 저..  늦게 해시 투표 동참한거 사실.. 조금.. 많이 죄송하긴 해써요😂😂\\n열심히 슨배님덜 따라갈게요~😍\\n\\nButter by BTS #BTS\\nStream #BTS_B…@green_zzang 맞아맞아 그렇긴 하지! 😂 근데 난 내용이 맘에 안 들거나 더 안 읽어도 되겠다 싶으면 다 안 읽었는데도 읽은 책처럼 생각해(!) ㅋㅋㅋㅋㅋ@weareDRIPPIN 오늘의 한마디를 주세요!😂\\n\\n#DRIPPIN #드리핀 #Villain #드리핀과_함께하는_멘션파티@KnitOhlala 이거 때문에 어제 실 주문을 한지라 ㅋㅋㅋㅋ 매우 찔립니다요!!! 근데 넘 잘 입을 것 같아서 함뜨참가! 얍! 색조합 잘 못하는데 원작하고 비슷하게 갑니다 😂@shotasaigo 까까님😂😂 생일메세지 정말 감사해요 🥺🥺💙 끝까지 덕질해라는 뜻인가봐요😇 까까님도 남은 시간 즐겁게 보내세요 🥰🥰아 내스급 성현제 책갈피가 아니라 옷핀입니다😂😂'"
      ]
     },
     "execution_count": 102,
     "metadata": {},
     "output_type": "execute_result"
    }
   ],
   "source": [
    "raw_korean = open(\"data/raw_korean.txt\", \"r\", encoding = \"utf-8\")\n",
    "rawtext = raw_korean.read()\n",
    "raw_korean.close()\n",
    "\n",
    "rawtext[:500]"
   ]
  }
 ],
 "metadata": {
  "kernelspec": {
   "display_name": "Python 3",
   "language": "python",
   "name": "python3"
  },
  "language_info": {
   "codemirror_mode": {
    "name": "ipython",
    "version": 3
   },
   "file_extension": ".py",
   "mimetype": "text/x-python",
   "name": "python",
   "nbconvert_exporter": "python",
   "pygments_lexer": "ipython3",
   "version": "3.7.3"
  }
 },
 "nbformat": 4,
 "nbformat_minor": 2
}
