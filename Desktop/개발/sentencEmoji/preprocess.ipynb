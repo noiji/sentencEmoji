{
 "cells": [
  {
   "cell_type": "code",
   "execution_count": 1,
   "metadata": {},
   "outputs": [],
   "source": [
    "import re\n",
    "import pandas as pd\n",
    "from pandas import DataFrame as df\n",
    "import numpy as np\n",
    "import emoji"
   ]
  },
  {
   "cell_type": "code",
   "execution_count": 2,
   "metadata": {},
   "outputs": [
    {
     "data": {
      "text/plain": [
       "'RT @haha247979: @onemoreonce4bts @BTS_twt 넵넵💜 저..  늦게 해시 투표 동참한거 사실.. 조금.. 많이 죄송하긴 해써요😂😂\\n열심히 슨배님덜 따라갈게요~😍\\n\\nButter by BTS #BTS\\nStream #BTS_B…@green_zzang 맞아맞아 그렇긴 하지! 😂 근데 난 내용이 맘에 안 들거나 더 안 읽어도 되겠다 싶으면 다 안 읽었는데도 읽은 책처럼 생각해(!) ㅋㅋㅋㅋㅋ@weareDRIPPIN 오늘의 한마디를 주세요!😂\\n\\n#DRIPPIN #드리핀 #Villain #드리핀과_함께하는_멘션파티@KnitOhlala 이거 때문에 어제 실 주문을 한지라 ㅋㅋㅋㅋ 매우 찔립니다요!!! 근데 넘 잘 입을 것 같아서 함뜨참가! 얍! 색조합 잘 못하는데 원작하고 비슷하게 갑니다 😂@shotasaigo 까까님😂😂 생일메세지 정말 감사해요 🥺🥺💙 끝까지 덕질해라는 뜻인가봐요😇 까까님도 남은 시간 즐겁게 보내세요 🥰🥰아 내스급 성현제 책갈피가 아니라 옷핀입니다😂😂'"
      ]
     },
     "execution_count": 2,
     "metadata": {},
     "output_type": "execute_result"
    }
   ],
   "source": [
    "twitter_file = open(\"data/raw_korean.txt\", \"r\", encoding = \"utf-8\")\n",
    "twitter = twitter_file.read()\n",
    "twitter_file.close()\n",
    "\n",
    "twitter[:500]"
   ]
  },
  {
   "cell_type": "code",
   "execution_count": null,
   "metadata": {},
   "outputs": [],
   "source": [
    "kaggle_file = open(\"data/kaggle_translated.txt\", \"r\", encoding = \"utf-8\")\n",
    "kaggle = kaggle_file.read()\n",
    "kaggle_file.close()\n",
    "\n",
    "kaggle[:500]"
   ]
  },
  {
   "cell_type": "code",
   "execution_count": null,
   "metadata": {},
   "outputs": [],
   "source": [
    "text = twitter + kaggle"
   ]
  },
  {
   "cell_type": "code",
   "execution_count": 3,
   "metadata": {},
   "outputs": [
    {
     "data": {
      "text/plain": [
       "'넵넵💜 저..  늦게 해시 투표 동참한거 사실.. 조금.. 많이 죄송하긴 해써요😂😂열심히 슨배님덜 따라갈게요😍    … 맞아맞아 그렇긴 하지! 😂 근데 난 내용이 맘에 안 들거나 더 안 읽어도 되겠다 싶으면 다 안 읽었는데도 읽은 책처럼 생각해! ㅋㅋㅋㅋㅋ 오늘의 한마디를 주세요!😂 드리핀  드리핀과함께하는멘션파티 이거 때문에 어제 실 주문을 한지라 ㅋㅋㅋㅋ 매우 찔립니다요!!! 근데 넘 잘 입을 것 같아서 함뜨참가! 얍! 색조합 잘 못하는데 원작하고 비슷하게 갑니다 😂 까까님😂😂 생일메세지 정말 감사해요 🥺🥺💙 끝까지 덕질해라는 뜻인가봐요😇 까까님도 남은 시간 즐겁게 보내세요 🥰🥰아 내스급 성현제 책갈피가 아니라 옷핀입니다😂😂  뮤지광컴퍼니는 끝났지만 나는 멈추지 않는다..정규직 기다려라..😂😂모두들 감사합니다❤️👍유튜브는 아직 남았어용ㅎㅎ크래비티 형준 아이돌라이브 뮤지광 .  우왕😍😍😍😍😍 솜사탕😙😙차배치가 초컷이래서😂 우리껀 춘절이후에 받아욥요기는 솜사탕 차폼이용😁 . 에에 아'"
      ]
     },
     "execution_count": 3,
     "metadata": {},
     "output_type": "execute_result"
    }
   ],
   "source": [
    "#영문, 특수문자(? ! . 제외), 숫자 제거\n",
    "text = re.sub('[a-zA-z]','',text)\n",
    "text = re.sub('[\\{\\}\\[\\]\\/;:|\\)*~`^\\-_+<>@\\#$%&\\\\\\=\\(\\'\\\"\\♥\\♡\\n0-9]','',text)\n",
    "text = text.strip()\n",
    "text[:500]"
   ]
  },
  {
   "cell_type": "code",
   "execution_count": 4,
   "metadata": {},
   "outputs": [
    {
     "data": {
      "text/plain": [
       "[{'location': 2, 'emoji': '💜'},\n",
       " {'location': 44, 'emoji': '😂'},\n",
       " {'location': 45, 'emoji': '😂'},\n",
       " {'location': 60, 'emoji': '😍'},\n",
       " {'location': 80, 'emoji': '😂'},\n",
       " {'location': 157, 'emoji': '😂'},\n",
       " {'location': 264, 'emoji': '😂'},\n",
       " {'location': 269, 'emoji': '😂'},\n",
       " {'location': 270, 'emoji': '😂'},\n",
       " {'location': 286, 'emoji': '🥺'}]"
      ]
     },
     "execution_count": 4,
     "metadata": {},
     "output_type": "execute_result"
    }
   ],
   "source": [
    "emojis = emoji.emoji_lis(text)\n",
    "emojis[:10]"
   ]
  },
  {
   "cell_type": "code",
   "execution_count": 5,
   "metadata": {},
   "outputs": [
    {
     "name": "stdout",
     "output_type": "stream",
     "text": [
      "327\n"
     ]
    },
    {
     "data": {
      "text/plain": [
       "['👈', '🕖', '😣', '🔱', '🍊', '🐍', '🤟🏻', '😋', '🤙🏻', '♦']"
      ]
     },
     "execution_count": 5,
     "metadata": {},
     "output_type": "execute_result"
    }
   ],
   "source": [
    "emojis = list(set([i['emoji'] for i in emojis]))\n",
    "print(len(emojis))\n",
    "emojis[:10]"
   ]
  },
  {
   "cell_type": "code",
   "execution_count": 6,
   "metadata": {},
   "outputs": [
    {
     "data": {
      "text/plain": [
       "'넵넵💜 저. 늦게 해시 투표 동참한거 사실. 조금. 많이 죄송하긴 해써요😂열심히 슨배님덜 따라갈게요😍 … 맞아맞아 그렇긴 하지! 😂 근데 난 내용이 맘에 안 들거나 더 안 읽어도 되겠다 싶으면 다 안 읽었는데도 읽은 책처럼 생각해! ㅋ 오늘의 한마디를 주세요!😂 드리핀 드리핀과함께하는멘션파티 이거 때문에 어제 실 주문을 한지라 ㅋ 매우 찔립니다요! 근데 넘 잘 입을 것 같아서 함뜨참가! 얍! 색조합 잘 못하는데 원작하고 비슷하게 갑니다 😂 까까님😂 생일메세지 정말 감사해요 🥺💙 끝까지 덕질해라는 뜻인가봐요😇 까까님도 남은 시간 즐겁게 보내세요 🥰아 내스급 성현제 책갈피가 아니라 옷핀입니다😂 뮤지광컴퍼니는 끝났지만 나는 멈추지 않는다.정규직 기다려라.😂모두들 감사합니다❤️👍유튜브는 아직 남았어용ㅎ크래비티 형준 아이돌라이브 뮤지광 . 우왕😍 솜사탕😙차배치가 초컷이래서😂 우리껀 춘절이후에 받아욥요기는 솜사탕 차폼이용😁 . 에에 아직 못갈겼어 담달에 살구야!😂🔥 흐뭇하게 시작해서 중간에 탈'"
      ]
     },
     "execution_count": 6,
     "metadata": {},
     "output_type": "execute_result"
    }
   ],
   "source": [
    "delimiters = ['.', '!', '?', 'ㅎ', 'ㅋ', ' ']\n",
    "delimiters.extend(emojis)\n",
    "\n",
    "#두번이상 반복된 것 한 번으로 축소\n",
    "for d in delimiters:\n",
    "    flag = False\n",
    "    while True:\n",
    "        if text.find(d+d) == -1:\n",
    "            break\n",
    "        text = text.replace(d+d, d)\n",
    "\n",
    "text[:500]"
   ]
  },
  {
   "cell_type": "code",
   "execution_count": 7,
   "metadata": {},
   "outputs": [
    {
     "data": {
      "text/html": [
       "<div>\n",
       "<style scoped>\n",
       "    .dataframe tbody tr th:only-of-type {\n",
       "        vertical-align: middle;\n",
       "    }\n",
       "\n",
       "    .dataframe tbody tr th {\n",
       "        vertical-align: top;\n",
       "    }\n",
       "\n",
       "    .dataframe thead th {\n",
       "        text-align: right;\n",
       "    }\n",
       "</style>\n",
       "<table border=\"1\" class=\"dataframe\">\n",
       "  <thead>\n",
       "    <tr style=\"text-align: right;\">\n",
       "      <th></th>\n",
       "      <th>x</th>\n",
       "      <th>y</th>\n",
       "    </tr>\n",
       "  </thead>\n",
       "  <tbody>\n",
       "  </tbody>\n",
       "</table>\n",
       "</div>"
      ],
      "text/plain": [
       "Empty DataFrame\n",
       "Columns: [x, y]\n",
       "Index: []"
      ]
     },
     "execution_count": 7,
     "metadata": {},
     "output_type": "execute_result"
    }
   ],
   "source": [
    "df = df(columns = ['x', 'y'])\n",
    "df"
   ]
  },
  {
   "cell_type": "code",
   "execution_count": 8,
   "metadata": {},
   "outputs": [],
   "source": [
    "delimiters.remove(' ')\n",
    "x = \"\"\n",
    "\n",
    "for i in range(len(text)):\n",
    "    if text[i] in delimiters:\n",
    "#         if i+1 < len(text) and text[i+1] in delimiters:\n",
    "#             continue\n",
    "        if len(x) < 5:\n",
    "            continue\n",
    "        if text[i] not in emojis:\n",
    "            df = df.append({'x': x, 'y': 'N'}, ignore_index = True)\n",
    "        else:\n",
    "            df = df.append({'x': x, 'y': text[i]}, ignore_index = True)\n",
    "        x = \"\"\n",
    "    else:\n",
    "        x += text[i]"
   ]
  },
  {
   "cell_type": "code",
   "execution_count": 9,
   "metadata": {
    "scrolled": true
   },
   "outputs": [
    {
     "name": "stdout",
     "output_type": "stream",
     "text": [
      "2231\n"
     ]
    },
    {
     "data": {
      "text/html": [
       "<div>\n",
       "<style scoped>\n",
       "    .dataframe tbody tr th:only-of-type {\n",
       "        vertical-align: middle;\n",
       "    }\n",
       "\n",
       "    .dataframe tbody tr th {\n",
       "        vertical-align: top;\n",
       "    }\n",
       "\n",
       "    .dataframe thead th {\n",
       "        text-align: right;\n",
       "    }\n",
       "</style>\n",
       "<table border=\"1\" class=\"dataframe\">\n",
       "  <thead>\n",
       "    <tr style=\"text-align: right;\">\n",
       "      <th></th>\n",
       "      <th>x</th>\n",
       "      <th>y</th>\n",
       "    </tr>\n",
       "  </thead>\n",
       "  <tbody>\n",
       "    <tr>\n",
       "      <th>0</th>\n",
       "      <td>넵넵 저 늦게 해시 투표 동참한거 사실</td>\n",
       "      <td>N</td>\n",
       "    </tr>\n",
       "    <tr>\n",
       "      <th>1</th>\n",
       "      <td>조금 많이 죄송하긴 해써요</td>\n",
       "      <td>😂</td>\n",
       "    </tr>\n",
       "    <tr>\n",
       "      <th>2</th>\n",
       "      <td>열심히 슨배님덜 따라갈게요</td>\n",
       "      <td>😍</td>\n",
       "    </tr>\n",
       "    <tr>\n",
       "      <th>3</th>\n",
       "      <td>… 맞아맞아 그렇긴 하지</td>\n",
       "      <td>N</td>\n",
       "    </tr>\n",
       "    <tr>\n",
       "      <th>4</th>\n",
       "      <td>근데 난 내용이 맘에 안 들거나 더 안 읽어도 되겠다 싶으면 다 안 읽었는데도 ...</td>\n",
       "      <td>N</td>\n",
       "    </tr>\n",
       "  </tbody>\n",
       "</table>\n",
       "</div>"
      ],
      "text/plain": [
       "                                                   x  y\n",
       "0                              넵넵 저 늦게 해시 투표 동참한거 사실  N\n",
       "1                                     조금 많이 죄송하긴 해써요  😂\n",
       "2                                     열심히 슨배님덜 따라갈게요  😍\n",
       "3                                      … 맞아맞아 그렇긴 하지  N\n",
       "4    근데 난 내용이 맘에 안 들거나 더 안 읽어도 되겠다 싶으면 다 안 읽었는데도 ...  N"
      ]
     },
     "execution_count": 9,
     "metadata": {},
     "output_type": "execute_result"
    }
   ],
   "source": [
    "print(len(df))\n",
    "df.head()"
   ]
  },
  {
   "cell_type": "code",
   "execution_count": 10,
   "metadata": {},
   "outputs": [],
   "source": [
    "#x; 한국어만 남기기\n",
    "df['x'] = [re.compile('[^ ㄱ-ㅣ가-힣]+').sub('', df['x'][i]).strip() for i in range(len(df['x']))]"
   ]
  },
  {
   "cell_type": "code",
   "execution_count": 11,
   "metadata": {
    "scrolled": true
   },
   "outputs": [
    {
     "name": "stdout",
     "output_type": "stream",
     "text": [
      "2231\n"
     ]
    },
    {
     "data": {
      "text/html": [
       "<div>\n",
       "<style scoped>\n",
       "    .dataframe tbody tr th:only-of-type {\n",
       "        vertical-align: middle;\n",
       "    }\n",
       "\n",
       "    .dataframe tbody tr th {\n",
       "        vertical-align: top;\n",
       "    }\n",
       "\n",
       "    .dataframe thead th {\n",
       "        text-align: right;\n",
       "    }\n",
       "</style>\n",
       "<table border=\"1\" class=\"dataframe\">\n",
       "  <thead>\n",
       "    <tr style=\"text-align: right;\">\n",
       "      <th></th>\n",
       "      <th>x</th>\n",
       "      <th>y</th>\n",
       "    </tr>\n",
       "  </thead>\n",
       "  <tbody>\n",
       "    <tr>\n",
       "      <th>0</th>\n",
       "      <td>넵넵 저 늦게 해시 투표 동참한거 사실</td>\n",
       "      <td>N</td>\n",
       "    </tr>\n",
       "    <tr>\n",
       "      <th>1</th>\n",
       "      <td>조금 많이 죄송하긴 해써요</td>\n",
       "      <td>😂</td>\n",
       "    </tr>\n",
       "    <tr>\n",
       "      <th>2</th>\n",
       "      <td>열심히 슨배님덜 따라갈게요</td>\n",
       "      <td>😍</td>\n",
       "    </tr>\n",
       "    <tr>\n",
       "      <th>3</th>\n",
       "      <td>맞아맞아 그렇긴 하지</td>\n",
       "      <td>N</td>\n",
       "    </tr>\n",
       "    <tr>\n",
       "      <th>4</th>\n",
       "      <td>근데 난 내용이 맘에 안 들거나 더 안 읽어도 되겠다 싶으면 다 안 읽었는데도 읽은...</td>\n",
       "      <td>N</td>\n",
       "    </tr>\n",
       "    <tr>\n",
       "      <th>5</th>\n",
       "      <td>오늘의 한마디를 주세요</td>\n",
       "      <td>N</td>\n",
       "    </tr>\n",
       "    <tr>\n",
       "      <th>6</th>\n",
       "      <td>드리핀 드리핀과함께하는멘션파티 이거 때문에 어제 실 주문을 한지라</td>\n",
       "      <td>N</td>\n",
       "    </tr>\n",
       "    <tr>\n",
       "      <th>7</th>\n",
       "      <td>매우 찔립니다요</td>\n",
       "      <td>N</td>\n",
       "    </tr>\n",
       "    <tr>\n",
       "      <th>8</th>\n",
       "      <td>근데 넘 잘 입을 것 같아서 함뜨참가</td>\n",
       "      <td>N</td>\n",
       "    </tr>\n",
       "    <tr>\n",
       "      <th>9</th>\n",
       "      <td>얍 색조합 잘 못하는데 원작하고 비슷하게 갑니다</td>\n",
       "      <td>😂</td>\n",
       "    </tr>\n",
       "    <tr>\n",
       "      <th>10</th>\n",
       "      <td>까까님 생일메세지 정말 감사해요</td>\n",
       "      <td>🥺</td>\n",
       "    </tr>\n",
       "    <tr>\n",
       "      <th>11</th>\n",
       "      <td>끝까지 덕질해라는 뜻인가봐요</td>\n",
       "      <td>😇</td>\n",
       "    </tr>\n",
       "    <tr>\n",
       "      <th>12</th>\n",
       "      <td>까까님도 남은 시간 즐겁게 보내세요</td>\n",
       "      <td>🥰</td>\n",
       "    </tr>\n",
       "    <tr>\n",
       "      <th>13</th>\n",
       "      <td>아 내스급 성현제 책갈피가 아니라 옷핀입니다</td>\n",
       "      <td>😂</td>\n",
       "    </tr>\n",
       "    <tr>\n",
       "      <th>14</th>\n",
       "      <td>뮤지광컴퍼니는 끝났지만 나는 멈추지 않는다</td>\n",
       "      <td>N</td>\n",
       "    </tr>\n",
       "    <tr>\n",
       "      <th>15</th>\n",
       "      <td>정규직 기다려라</td>\n",
       "      <td>N</td>\n",
       "    </tr>\n",
       "    <tr>\n",
       "      <th>16</th>\n",
       "      <td>모두들 감사합니다</td>\n",
       "      <td>❤</td>\n",
       "    </tr>\n",
       "    <tr>\n",
       "      <th>17</th>\n",
       "      <td>유튜브는 아직 남았어용</td>\n",
       "      <td>N</td>\n",
       "    </tr>\n",
       "    <tr>\n",
       "      <th>18</th>\n",
       "      <td>크래비티 형준 아이돌라이브 뮤지광</td>\n",
       "      <td>N</td>\n",
       "    </tr>\n",
       "    <tr>\n",
       "      <th>19</th>\n",
       "      <td>우왕 솜사탕</td>\n",
       "      <td>😙</td>\n",
       "    </tr>\n",
       "    <tr>\n",
       "      <th>20</th>\n",
       "      <td>차배치가 초컷이래서</td>\n",
       "      <td>😂</td>\n",
       "    </tr>\n",
       "    <tr>\n",
       "      <th>21</th>\n",
       "      <td>우리껀 춘절이후에 받아욥요기는 솜사탕 차폼이용</td>\n",
       "      <td>😁</td>\n",
       "    </tr>\n",
       "    <tr>\n",
       "      <th>22</th>\n",
       "      <td>에에 아직 못갈겼어 담달에 살구야</td>\n",
       "      <td>N</td>\n",
       "    </tr>\n",
       "    <tr>\n",
       "      <th>23</th>\n",
       "      <td>흐뭇하게 시작해서 중간에 탈탈 거리는 장면에서 빵 터졌다가 마지막에 울컥했어요</td>\n",
       "      <td>😂</td>\n",
       "    </tr>\n",
       "    <tr>\n",
       "      <th>24</th>\n",
       "      <td>꼬기 하늘에서 뚝</td>\n",
       "      <td>N</td>\n",
       "    </tr>\n",
       "    <tr>\n",
       "      <th>25</th>\n",
       "      <td>떨어진 아기 천사 생일 기념 이벤트</td>\n",
       "      <td>🔥</td>\n",
       "    </tr>\n",
       "    <tr>\n",
       "      <th>26</th>\n",
       "      <td>도영이의 생일을 맞이해 초특급 감성목소리를 더욱 짜릿하게 즐길 수 있는 카세트 플레...</td>\n",
       "      <td>N</td>\n",
       "    </tr>\n",
       "    <tr>\n",
       "      <th>27</th>\n",
       "      <td>도영이 커버곡이 들어간 도 함 오늘도 고생했어요 트레저메이커</td>\n",
       "      <td>❤</td>\n",
       "    </tr>\n",
       "    <tr>\n",
       "      <th>28</th>\n",
       "      <td>하루토</td>\n",
       "      <td>N</td>\n",
       "    </tr>\n",
       "    <tr>\n",
       "      <th>29</th>\n",
       "      <td>아 내 망태기 크고 아늑하니깐 편히 쉴겨</td>\n",
       "      <td>❤</td>\n",
       "    </tr>\n",
       "  </tbody>\n",
       "</table>\n",
       "</div>"
      ],
      "text/plain": [
       "                                                    x  y\n",
       "0                               넵넵 저 늦게 해시 투표 동참한거 사실  N\n",
       "1                                      조금 많이 죄송하긴 해써요  😂\n",
       "2                                      열심히 슨배님덜 따라갈게요  😍\n",
       "3                                         맞아맞아 그렇긴 하지  N\n",
       "4   근데 난 내용이 맘에 안 들거나 더 안 읽어도 되겠다 싶으면 다 안 읽었는데도 읽은...  N\n",
       "5                                        오늘의 한마디를 주세요  N\n",
       "6                드리핀 드리핀과함께하는멘션파티 이거 때문에 어제 실 주문을 한지라  N\n",
       "7                                            매우 찔립니다요  N\n",
       "8                                근데 넘 잘 입을 것 같아서 함뜨참가  N\n",
       "9                          얍 색조합 잘 못하는데 원작하고 비슷하게 갑니다  😂\n",
       "10                                  까까님 생일메세지 정말 감사해요  🥺\n",
       "11                                    끝까지 덕질해라는 뜻인가봐요  😇\n",
       "12                                까까님도 남은 시간 즐겁게 보내세요  🥰\n",
       "13                           아 내스급 성현제 책갈피가 아니라 옷핀입니다  😂\n",
       "14                            뮤지광컴퍼니는 끝났지만 나는 멈추지 않는다  N\n",
       "15                                           정규직 기다려라  N\n",
       "16                                          모두들 감사합니다  ❤\n",
       "17                                       유튜브는 아직 남았어용  N\n",
       "18                                 크래비티 형준 아이돌라이브 뮤지광  N\n",
       "19                                             우왕 솜사탕  😙\n",
       "20                                         차배치가 초컷이래서  😂\n",
       "21                          우리껀 춘절이후에 받아욥요기는 솜사탕 차폼이용  😁\n",
       "22                                 에에 아직 못갈겼어 담달에 살구야  N\n",
       "23        흐뭇하게 시작해서 중간에 탈탈 거리는 장면에서 빵 터졌다가 마지막에 울컥했어요  😂\n",
       "24                                          꼬기 하늘에서 뚝  N\n",
       "25                                떨어진 아기 천사 생일 기념 이벤트  🔥\n",
       "26  도영이의 생일을 맞이해 초특급 감성목소리를 더욱 짜릿하게 즐길 수 있는 카세트 플레...  N\n",
       "27                  도영이 커버곡이 들어간 도 함 오늘도 고생했어요 트레저메이커  ❤\n",
       "28                                                하루토  N\n",
       "29                             아 내 망태기 크고 아늑하니깐 편히 쉴겨  ❤"
      ]
     },
     "execution_count": 11,
     "metadata": {},
     "output_type": "execute_result"
    }
   ],
   "source": [
    "print(len(df))\n",
    "df.head(30)"
   ]
  },
  {
   "cell_type": "code",
   "execution_count": 12,
   "metadata": {},
   "outputs": [],
   "source": [
    "df.to_csv('data/twitter_clean.csv', index=False)"
   ]
  },
  {
   "cell_type": "code",
   "execution_count": 13,
   "metadata": {},
   "outputs": [
    {
     "data": {
      "text/plain": [
       "N    981\n",
       "❤     34\n",
       "💙     31\n",
       "📸     26\n",
       "❣     22\n",
       "✨     21\n",
       "💜     20\n",
       "😝     18\n",
       "🎉     18\n",
       "😆     17\n",
       "Name: y, dtype: int64"
      ]
     },
     "execution_count": 13,
     "metadata": {},
     "output_type": "execute_result"
    }
   ],
   "source": [
    "df['y'].value_counts(sort = True).head(10)"
   ]
  },
  {
   "cell_type": "code",
   "execution_count": 14,
   "metadata": {},
   "outputs": [
    {
     "data": {
      "text/plain": [
       "220"
      ]
     },
     "execution_count": 14,
     "metadata": {},
     "output_type": "execute_result"
    }
   ],
   "source": [
    "len(df['y'].value_counts(sort = True))"
   ]
  },
  {
   "cell_type": "code",
   "execution_count": 15,
   "metadata": {},
   "outputs": [
    {
     "data": {
      "text/plain": [
       "2231"
      ]
     },
     "execution_count": 15,
     "metadata": {},
     "output_type": "execute_result"
    }
   ],
   "source": [
    "len(df)"
   ]
  },
  {
   "cell_type": "code",
   "execution_count": null,
   "metadata": {},
   "outputs": [],
   "source": [
    "#count 10 이하인 것 제거"
   ]
  }
 ],
 "metadata": {
  "kernelspec": {
   "display_name": "Python 3",
   "language": "python",
   "name": "python3"
  },
  "language_info": {
   "codemirror_mode": {
    "name": "ipython",
    "version": 3
   },
   "file_extension": ".py",
   "mimetype": "text/x-python",
   "name": "python",
   "nbconvert_exporter": "python",
   "pygments_lexer": "ipython3",
   "version": "3.7.3"
  }
 },
 "nbformat": 4,
 "nbformat_minor": 2
}
