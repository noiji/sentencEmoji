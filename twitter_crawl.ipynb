{
 "cells": [
  {
   "cell_type": "code",
   "execution_count": 1,
   "metadata": {},
   "outputs": [],
   "source": [
    "#ver. 2022-02-06\n",
    "import requests\n",
    "import json"
   ]
  },
  {
   "cell_type": "code",
   "execution_count": 2,
   "metadata": {},
   "outputs": [],
   "source": [
    "bearer_token = 'AAAAAAAAAAAAAAAAAAAAADMqYQEAAAAAbKE65k5L3%2B3laInNEBUD6voASLA%3DefuchD6zgJTt3knKTPnurvQYjshXL0189pW3KmdUyUQ2RTsS4K'"
   ]
  },
  {
   "cell_type": "code",
   "execution_count": 3,
   "metadata": {},
   "outputs": [],
   "source": [
    "def send_api(query, bearer_token, lang):\n",
    "    url = \"https://api.twitter.com/2/tweets/search/recent\"\n",
    "    headers = {\"Authorization\": \"Bearer {}\".format(bearer_token)}\n",
    "    params = {\n",
    "        'query': query + \" lang:\"+ lang\n",
    "    }\n",
    "    response = requests.get(url, headers = headers, params = params)\n",
    "    \n",
    "    ret = response.json()['data']\n",
    "    return ret       "
   ]
  },
  {
   "cell_type": "code",
   "execution_count": 4,
   "metadata": {},
   "outputs": [],
   "source": [
    "test = send_api('😂', bearer_token, 'ko')"
   ]
  },
  {
   "cell_type": "code",
   "execution_count": 5,
   "metadata": {},
   "outputs": [
    {
     "data": {
      "text/plain": [
       "['😂', '❤️', '😍', '🤣', '😊', '🙏', '💕', '😭', '😘', '👍']"
      ]
     },
     "execution_count": 5,
     "metadata": {},
     "output_type": "execute_result"
    }
   ],
   "source": [
    "f = open(\"data/top-100-emojis.txt\", \"r\", encoding = \"utf-8\")\n",
    "emojis = []\n",
    "\n",
    "emojis = f.readlines()\n",
    "emojis = [s.strip() for s in emojis]\n",
    "f.close()\n",
    "\n",
    "\n",
    "emojis[:10]"
   ]
  },
  {
   "cell_type": "code",
   "execution_count": 6,
   "metadata": {},
   "outputs": [],
   "source": [
    "#Twitter API로 데이터 불러오기: 최초에만 사용\n",
    "jsonlist = []\n",
    "\n",
    "with open(\"data/student_file.json\", \"w\") as json_file:\n",
    "    for e in emojis:\n",
    "        try:\n",
    "            ret = send_api(e, bearer_token, 'ko')\n",
    "            jsonlist.extend(ret)\n",
    "        except:\n",
    "            continue"
   ]
  },
  {
   "cell_type": "code",
   "execution_count": 7,
   "metadata": {},
   "outputs": [
    {
     "name": "stdout",
     "output_type": "stream",
     "text": [
      "RT @yfZyvZAdPzI45aY: 메인트 이벤트 참여자 많아지면 RT추첨 미미 드려요!\n",
      "\n",
      "자석이 오른쪽 엉덩이에 있습니다😂\n",
      "이외의 하자는 없습니다\n",
      "2,3,4번째 사진 확인해주세요!\n",
      "\n",
      "이 글 RT해주시면 됩니다\n",
      "팔로워 한정입니다! https://t…ㅋㅋㅋ\n",
      "울집피아노도\n",
      "인테리어소품될까봐\n",
      "가끔쳐주는.\n",
      "지금은 덮개 위에 화분 올려뒀음😂 https://t.co/6tPxB3N1Lp20년 연말에 코시국땜에 아무데도 못가서 심심한 나머지 신장판 나온거 보고 만화책이나 보자고 전권지름의 결과=완독후 바로 입덕&gt;서칭&gt;일웹탐사&gt;국내온리전&gt;탐라입성&gt;은인을 만나 회지를 얻어읽고+사고 또 사모아서 현재에 이르렀다네😂 이렇게 깊이 빠지게 될줄이야... 루하나의 잘못이 매우 크다😤RT @BeautifulSoulB7: 🤣😂💜 아미님들은 재치꾼!!\n",
      "\n",
      "2013.9.11 #BTS 첫미니앨범\n",
      "[ O!RUL8,2? ]\n",
      "\n",
      "[ O!RUBROKE,2?]\n",
      "\"오!! 당신도 빈털털이?\"\n",
      "\n",
      "Shazam \n"
     ]
    }
   ],
   "source": [
    "# id를 기준으로 중복된 Tweet 제거\n",
    "\n",
    "idlist = []\n",
    "rawtext = \"\"\n",
    "\n",
    "for j in jsonlist:\n",
    "    if j['id'] in idlist:\n",
    "        continue\n",
    "    else:\n",
    "        idlist.append(j['id'])\n",
    "        rawtext += j['text']\n",
    "\n",
    "print(rawtext[:500])\n",
    "\n",
    "raw_korean = open(\"data/raw_korean_0206.txt\", \"w\", encoding = \"utf-8\")\n",
    "raw_korean.write(rawtext)\n",
    "raw_korean.close()"
   ]
  },
  {
   "cell_type": "code",
   "execution_count": 9,
   "metadata": {},
   "outputs": [
    {
     "data": {
      "text/plain": [
       "'RT @yfZyvZAdPzI45aY: 메인트 이벤트 참여자 많아지면 RT추첨 미미 드려요!\\n\\n자석이 오른쪽 엉덩이에 있습니다😂\\n이외의 하자는 없습니다\\n2,3,4번째 사진 확인해주세요!\\n\\n이 글 RT해주시면 됩니다\\n팔로워 한정입니다! https://t…ㅋㅋㅋ\\n울집피아노도\\n인테리어소품될까봐\\n가끔쳐주는.\\n지금은 덮개 위에 화분 올려뒀음😂 https://t.co/6tPxB3N1Lp20년 연말에 코시국땜에 아무데도 못가서 심심한 나머지 신장판 나온거 보고 만화책이나 보자고 전권지름의 결과=완독후 바로 입덕&gt;서칭&gt;일웹탐사&gt;국내온리전&gt;탐라입성&gt;은인을 만나 회지를 얻어읽고+사고 또 사모아서 현재에 이르렀다네😂 이렇게 깊이 빠지게 될줄이야... 루하나의 잘못이 매우 크다😤RT @BeautifulSoulB7: 🤣😂💜 아미님들은 재치꾼!!\\n\\n2013.9.11 #BTS 첫미니앨범\\n[ O!RUL8,2? ]\\n\\n[ O!RUBROKE,2?]\\n\"오!! 당신도 빈털털이?\"\\n\\nShazam '"
      ]
     },
     "execution_count": 9,
     "metadata": {},
     "output_type": "execute_result"
    }
   ],
   "source": [
    "raw_korean = open(\"data/raw_korean_0206.txt\", \"r\", encoding = \"utf-8\")\n",
    "rawtext = raw_korean.read()\n",
    "raw_korean.close()\n",
    "\n",
    "rawtext[:500]"
   ]
  },
  {
   "cell_type": "code",
   "execution_count": null,
   "metadata": {},
   "outputs": [],
   "source": []
  }
 ],
 "metadata": {
  "kernelspec": {
   "display_name": "Python 3 (ipykernel)",
   "language": "python",
   "name": "python3"
  },
  "language_info": {
   "codemirror_mode": {
    "name": "ipython",
    "version": 3
   },
   "file_extension": ".py",
   "mimetype": "text/x-python",
   "name": "python",
   "nbconvert_exporter": "python",
   "pygments_lexer": "ipython3",
   "version": "3.7.3"
  }
 },
 "nbformat": 4,
 "nbformat_minor": 2
}
